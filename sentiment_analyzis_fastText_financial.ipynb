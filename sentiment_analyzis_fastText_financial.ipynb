{
 "cells": [
  {
   "cell_type": "code",
   "execution_count": 2,
   "metadata": {},
   "outputs": [],
   "source": [
    "import torch\n",
    "import torch.nn as nn\n",
    "import torch.optim as optim\n",
    "import torch.nn.functional as F\n",
    "\n",
    "import numpy as np\n",
    "\n",
    "import pickle\n",
    "import random\n",
    "import math\n",
    "import time\n",
    "\n",
    "import nltk\n",
    "from nltk.tokenize import sent_tokenize\n",
    "\n",
    "import re\n",
    "\n",
    "from tqdm import tqdm\n",
    "\n",
    "import wandb\n",
    "\n",
    "import torch.utils.data as data\n",
    "from torch.utils.data import Dataset\n",
    "\n",
    "import pandas as pd\n",
    "from tqdm import tqdm\n",
    "import matplotlib.pyplot as plt\n"
   ]
  },
  {
   "cell_type": "code",
   "execution_count": 3,
   "metadata": {},
   "outputs": [],
   "source": [
    "LMAX = 50\n",
    "\n",
    "attentionNetworkBool = 1"
   ]
  },
  {
   "cell_type": "code",
   "execution_count": 4,
   "metadata": {},
   "outputs": [
    {
     "name": "stdout",
     "output_type": "stream",
     "text": [
      "cuda:0\n"
     ]
    }
   ],
   "source": [
    "device = torch.device(\"cuda:0\" if torch.cuda.is_available() else \"cpu\")\n",
    "print(device)"
   ]
  },
  {
   "cell_type": "markdown",
   "metadata": {},
   "source": [
    "### Get the data"
   ]
  },
  {
   "cell_type": "markdown",
   "metadata": {},
   "source": [
    "You have to adpt the path to your computer\n",
    "\n",
    "The data can be downloaded there https://www.kaggle.com/datasets/sbhatti/financial-sentiment-analysis"
   ]
  },
  {
   "cell_type": "code",
   "execution_count": 5,
   "metadata": {},
   "outputs": [],
   "source": [
    "file_path = '/home/jpierre/other/sentiment_analyzis/data/data_financial.csv'\n",
    "\n",
    "d = pd.read_csv(file_path)\n",
    "\n"
   ]
  },
  {
   "cell_type": "code",
   "execution_count": 6,
   "metadata": {},
   "outputs": [
    {
     "data": {
      "text/html": [
       "<div>\n",
       "<style scoped>\n",
       "    .dataframe tbody tr th:only-of-type {\n",
       "        vertical-align: middle;\n",
       "    }\n",
       "\n",
       "    .dataframe tbody tr th {\n",
       "        vertical-align: top;\n",
       "    }\n",
       "\n",
       "    .dataframe thead th {\n",
       "        text-align: right;\n",
       "    }\n",
       "</style>\n",
       "<table border=\"1\" class=\"dataframe\">\n",
       "  <thead>\n",
       "    <tr style=\"text-align: right;\">\n",
       "      <th></th>\n",
       "      <th>Sentence</th>\n",
       "      <th>Sentiment</th>\n",
       "    </tr>\n",
       "  </thead>\n",
       "  <tbody>\n",
       "    <tr>\n",
       "      <th>0</th>\n",
       "      <td>The GeoSolutions technology will leverage Bene...</td>\n",
       "      <td>positive</td>\n",
       "    </tr>\n",
       "    <tr>\n",
       "      <th>1</th>\n",
       "      <td>$ESI on lows, down $1.50 to $2.50 BK a real po...</td>\n",
       "      <td>negative</td>\n",
       "    </tr>\n",
       "    <tr>\n",
       "      <th>2</th>\n",
       "      <td>For the last quarter of 2010 , Componenta 's n...</td>\n",
       "      <td>positive</td>\n",
       "    </tr>\n",
       "    <tr>\n",
       "      <th>3</th>\n",
       "      <td>According to the Finnish-Russian Chamber of Co...</td>\n",
       "      <td>neutral</td>\n",
       "    </tr>\n",
       "    <tr>\n",
       "      <th>4</th>\n",
       "      <td>The Swedish buyout firm has sold its remaining...</td>\n",
       "      <td>neutral</td>\n",
       "    </tr>\n",
       "  </tbody>\n",
       "</table>\n",
       "</div>"
      ],
      "text/plain": [
       "                                            Sentence Sentiment\n",
       "0  The GeoSolutions technology will leverage Bene...  positive\n",
       "1  $ESI on lows, down $1.50 to $2.50 BK a real po...  negative\n",
       "2  For the last quarter of 2010 , Componenta 's n...  positive\n",
       "3  According to the Finnish-Russian Chamber of Co...   neutral\n",
       "4  The Swedish buyout firm has sold its remaining...   neutral"
      ]
     },
     "execution_count": 6,
     "metadata": {},
     "output_type": "execute_result"
    }
   ],
   "source": [
    "d.head(5)"
   ]
  },
  {
   "cell_type": "code",
   "execution_count": 7,
   "metadata": {},
   "outputs": [
    {
     "name": "stdout",
     "output_type": "stream",
     "text": [
      "For the last quarter of 2010 , Componenta 's net sales doubled to EUR131m from EUR76m for the same period a year earlier , while it moved to a zero pre-tax profit from a pre-tax loss of EUR7m .\n"
     ]
    }
   ],
   "source": [
    "df = d['Sentence'].values\n",
    "y = d['Sentiment'].values\n",
    "print(df[2])"
   ]
  },
  {
   "cell_type": "code",
   "execution_count": 8,
   "metadata": {},
   "outputs": [],
   "source": [
    "labelDict = {}\n",
    "labelDict['negative'] = 0\n",
    "labelDict['neutral'] = 1\n",
    "labelDict['positive'] = 2"
   ]
  },
  {
   "cell_type": "markdown",
   "metadata": {},
   "source": [
    "## Exploring data"
   ]
  },
  {
   "cell_type": "markdown",
   "metadata": {},
   "source": [
    "1) Length of our sentences"
   ]
  },
  {
   "cell_type": "code",
   "execution_count": 9,
   "metadata": {},
   "outputs": [
    {
     "data": {
      "image/png": "[encoded data removed]",
      "text/plain": [
       "<Figure size 640x480 with 1 Axes>"
      ]
     },
     "metadata": {},
     "output_type": "display_data"
    },
    {
     "name": "stdout",
     "output_type": "stream",
     "text": [
      "5842\n"
     ]
    }
   ],
   "source": [
    "def getLength(data:list, display:bool = True)->list:\n",
    "    \"\"\" \n",
    "    Function to get the distribution of the lengths of the sentences in \n",
    "    our data\n",
    "    \n",
    "    Args:\n",
    "    -----\n",
    "    - `data`: list with the sentences\n",
    "    - `display`(optional): boolean to set the plot of the histogram\n",
    "    \n",
    "    Output:\n",
    "    -------\n",
    "    the list of lengths\n",
    "    \"\"\"\n",
    "    L = [len(data[i].split(' ')) for i in range(len(data))]\n",
    "\n",
    "    if display:\n",
    "        plt.hist(L, bins='auto')\n",
    "        plt.xlabel('Length of the sentences')\n",
    "        plt.ylabel('Number of instances')\n",
    "        plt.savefig('histSentenceLength2.png')\n",
    "        plt.show()\n",
    "    return L\n",
    "\n",
    "L = getLength(df)\n",
    "print(len(L))"
   ]
  },
  {
   "cell_type": "markdown",
   "metadata": {},
   "source": [
    "3) Repartition of the labels"
   ]
  },
  {
   "cell_type": "code",
   "execution_count": 10,
   "metadata": {},
   "outputs": [],
   "source": [
    "def getNb(labelData:list, labelDict:dict = labelDict, display:bool = True)->np.array:\n",
    "    \"\"\"\n",
    "    Function to count the number of instances per label\n",
    "    \n",
    "    Args:\n",
    "    -----\n",
    "    - `labelData`: list of labels\n",
    "    - `labelDict`: dictionnary of the labels\n",
    "    - `display`(optional): boolean to activate the display\n",
    "    \n",
    "    Output:\n",
    "    ------\n",
    "    - vector wiht counts\n",
    "    \"\"\"\n",
    "\n",
    "    countVect = np.zeros(len(labelDict)).astype(int)\n",
    "\n",
    "    for i in range(len(labelData)):\n",
    "        label = labelData[i]\n",
    "        countVect[labelDict[label]] += 1\n",
    "\n",
    "    if display:\n",
    "        plt.bar(list(labelDict.keys()), countVect)\n",
    "        plt.ylabel('Number of instances')\n",
    "        plt.savefig('repar2.png')\n",
    "        plt.show()\n",
    "\n",
    "    return countVect"
   ]
  },
  {
   "cell_type": "code",
   "execution_count": 11,
   "metadata": {},
   "outputs": [
    {
     "name": "stdout",
     "output_type": "stream",
     "text": [
      "{'negative': 0, 'neutral': 1, 'positive': 2}\n"
     ]
    },
    {
     "data": {
      "image/png": "[encoded data removed]",
      "text/plain": [
       "<Figure size 640x480 with 1 Axes>"
      ]
     },
     "metadata": {},
     "output_type": "display_data"
    },
    {
     "name": "stdout",
     "output_type": "stream",
     "text": [
      "[ 860 3130 1852]\n"
     ]
    }
   ],
   "source": [
    "print(labelDict)\n",
    "nb = getNb(d['Sentiment'])\n",
    "\n",
    "\n",
    "print(nb)"
   ]
  },
  {
   "cell_type": "markdown",
   "metadata": {},
   "source": [
    "In order to tackle dataset unbalance, there are different possibilities. The risk is that the network will never predict the majority class as a shortcut. There are multiple solutions\n",
    "\n",
    "One of them would be to perform data augmentation by rewriting a bit differently the sentences of the class which have less instances (while keeping the sentiment expressed).\n",
    "However,such technique might be out of the scope of such projects (also generating new sentences). \n",
    "\n",
    "In order to tackle this issue, we could instead use an oversampling scheme in order for our data to be less imbalanced.\n",
    "\n",
    "Yet, we decided to let it that way in order to see if the NN would still be able to learn a bit."
   ]
  },
  {
   "cell_type": "markdown",
   "metadata": {},
   "source": [
    "## Preprocessing step"
   ]
  },
  {
   "cell_type": "markdown",
   "metadata": {},
   "source": [
    "1) contraction (dealing with I'm, I'd, ...)"
   ]
  },
  {
   "cell_type": "markdown",
   "metadata": {},
   "source": [
    "2) uppercase letters -> lowercase letters"
   ]
  },
  {
   "cell_type": "markdown",
   "metadata": {},
   "source": [
    "3) get rid of stopwords"
   ]
  },
  {
   "cell_type": "markdown",
   "metadata": {},
   "source": [
    "4) remove punctiation, numbers"
   ]
  },
  {
   "cell_type": "markdown",
   "metadata": {},
   "source": [
    "5) dealing with spaces"
   ]
  },
  {
   "cell_type": "code",
   "execution_count": 12,
   "metadata": {},
   "outputs": [
    {
     "name": "stderr",
     "output_type": "stream",
     "text": [
      "[nltk_data] Downloading package stopwords to\n",
      "[nltk_data]     /home/jpierre/nltk_data...\n",
      "[nltk_data]   Package stopwords is already up-to-date!\n"
     ]
    }
   ],
   "source": [
    "from nltk.corpus import stopwords\n",
    "nltk.download('stopwords')\n",
    "stopWords = set(stopwords.words('english'))\n",
    "import contractions\n",
    "\n",
    "stopWords.remove('not')\n",
    "stopWords.remove('but')\n",
    "stopWords.remove('i')\n",
    "stopWords.remove('you')\n",
    "stopWords.remove('he')\n",
    "stopWords.remove('she')\n",
    "stopWords.remove('it')\n",
    "stopWords.remove('we')\n",
    "stopWords.remove('they')\n"
   ]
  },
  {
   "cell_type": "code",
   "execution_count": 13,
   "metadata": {},
   "outputs": [],
   "source": [
    "def preprocess(sentences:list[str], stopWords)->list:\n",
    "    \"\"\"\n",
    "    Function to apply all the preprocessing\n",
    "    \n",
    "    Args:\n",
    "    -----\n",
    "    - `sentences`: list of sentences\n",
    "    - `stopWords`: stopwords to handle\n",
    "    \n",
    "    Output:\n",
    "    -------\n",
    "    the list with the preprocessed sentences\n",
    "    \"\"\"\n",
    "    \n",
    "    res = []\n",
    "    for sentence in tqdm(sentences):\n",
    "        \n",
    "        ## contractions\n",
    "        sentence = contractions.fix(sentence)\n",
    "        \n",
    "        ## get the sentence in lower case letters\n",
    "        sentence = sentence.lower()\n",
    "        \n",
    "        # websites deletion\n",
    "        url_pattern = re.compile(r'https?://\\S+|www\\.\\S+')\n",
    "        sentence = re.sub(url_pattern, '', sentence)\n",
    "        \n",
    "        ## remove punctuation and numbers (everything that is different from letters)\n",
    "        sentence = re.sub('[^a-zA-Z]', ' ', sentence)\n",
    "        \n",
    "        ## remove stopwords\n",
    "        pattern = re.compile(r'\\b(' + r'|'.join(stopWords) + r')\\b\\s*')\n",
    "        sentence = pattern.sub('', sentence)\n",
    "\n",
    "        ## take care of spaces\n",
    "        sentence = re.sub(r'\\s+', ' ', sentence)\n",
    "        sentence = sentence.strip()\n",
    "\n",
    "        res.append(sentence)\n",
    "\n",
    "    return res\n"
   ]
  },
  {
   "cell_type": "code",
   "execution_count": 14,
   "metadata": {},
   "outputs": [
    {
     "name": "stdout",
     "output_type": "stream",
     "text": [
      "[\"The GeoSolutions technology will leverage Benefon 's GPS solutions by providing Location Based Search Technology , a Communities Platform , location relevant multimedia content and a new and powerful commercial model .\"\n",
      " '$ESI on lows, down $1.50 to $2.50 BK a real possibility'\n",
      " \"For the last quarter of 2010 , Componenta 's net sales doubled to EUR131m from EUR76m for the same period a year earlier , while it moved to a zero pre-tax profit from a pre-tax loss of EUR7m .\"\n",
      " 'According to the Finnish-Russian Chamber of Commerce , all the major construction companies of Finland are operating in Russia .'\n",
      " 'The Swedish buyout firm has sold its remaining 22.4 percent stake , almost eighteen months after taking the company public in Finland .'\n",
      " \"$SPY wouldn't be surprised to see a green close\"\n",
      " \"Shell's $70 Billion BG Deal Meets Shareholder Skepticism\"\n",
      " 'SSH COMMUNICATIONS SECURITY CORP STOCK EXCHANGE RELEASE OCTOBER 14 , 2008 AT 2:45 PM The Company updates its full year outlook and estimates its results to remain at loss for the full year .'\n",
      " \"Kone 's net sales rose by some 14 % year-on-year in the first nine months of 2008 .\"\n",
      " \"The Stockmann department store will have a total floor space of over 8,000 square metres and Stockmann 's investment in the project will have a price tag of about EUR 12 million .\"\n",
      " 'Circulation revenue has increased by 5 % in Finland and 4 % in Sweden in 2008 .'\n",
      " '$SAP Q1 disappoints as #software licenses down. Real problem? #Cloud growth trails $MSFT $ORCL $GOOG $CRM $ADBE https://t.co/jNDphllzq5'\n",
      " 'The subdivision made sales revenues last year of EUR 480.7 million EUR 414.9 million in 2008 , and operating profits of EUR 44.5 million EUR 7.4 million .'\n",
      " 'Viking Line has canceled some services .'\n",
      " \"Ahlstrom Corporation STOCK EXCHANGE ANNOUNCEMENT 7.2.2007 at 10.30 A total of 56,955 new shares of Ahlstrom Corporation have been subscribed with option rights under the company 's stock option programs I 2001 and II 2001 .\"]\n"
     ]
    }
   ],
   "source": [
    "print(df[:15])"
   ]
  },
  {
   "cell_type": "code",
   "execution_count": 15,
   "metadata": {},
   "outputs": [
    {
     "name": "stderr",
     "output_type": "stream",
     "text": [
      "100%|██████████| 5842/5842 [00:00<00:00, 16150.15it/s]\n"
     ]
    }
   ],
   "source": [
    "df = preprocess(df, stopWords)"
   ]
  },
  {
   "cell_type": "code",
   "execution_count": 16,
   "metadata": {},
   "outputs": [
    {
     "name": "stdout",
     "output_type": "stream",
     "text": [
      "['geosolutions technology leverage benefon gps solutions providing location based search technology communities platform location relevant multimedia content new powerful commercial model', 'esi lows bk real possibility', 'last quarter componenta net sales doubled eur eur period year earlier it moved zero pre tax profit pre tax loss eur', 'according finnish russian chamber commerce major construction companies finland operating russia', 'swedish buyout firm sold remaining percent stake almost eighteen months taking company public finland', 'spy would not surprised see green close', 'she billion bg deal meets shareholder skepticism', 'ssh communications security corp stock exchange release october pm company updates full year outlook estimates results remain loss full year', 'kone net sales rose year year first nine months', 'stockmann department store total floor space square metres stockmann investment project price tag eur million', 'circulation revenue increased finland sweden', 'sap q disappoints software licenses real problem cloud growth trails msft orcl goog crm adbe', 'subdivision made sales revenues last year eur million eur million operating profits eur million eur million', 'viking line canceled services', 'ahlstrom corporation stock exchange announcement total new shares ahlstrom corporation subscribed option rights company stock option programs i ii']\n"
     ]
    }
   ],
   "source": [
    "print(df[:15])"
   ]
  },
  {
   "cell_type": "markdown",
   "metadata": {},
   "source": [
    "### Decompose according to spaces and make a dictionnary for both the learning and the test phase"
   ]
  },
  {
   "cell_type": "code",
   "execution_count": 17,
   "metadata": {},
   "outputs": [
    {
     "name": "stderr",
     "output_type": "stream",
     "text": [
      "100%|██████████| 5842/5842 [00:00<00:00, 605314.33it/s]\n"
     ]
    }
   ],
   "source": [
    "def decompose(df:list[str])->list:\n",
    "    \"\"\" \n",
    "    Function to decompose the sentences according to the spaces\n",
    "    \n",
    "    Args:\n",
    "    -----\n",
    "    - `df`: list of preprocessed sentences\n",
    "    \n",
    "    Output:\n",
    "    -------\n",
    "    list with the sentences decomposed according to spaces\n",
    "    \"\"\"\n",
    "    \n",
    "    for i in tqdm(range(len(df))):\n",
    "        df[i] = df[i].split(' ')\n",
    "    return df\n",
    "\n",
    "df = decompose(df)\n"
   ]
  },
  {
   "cell_type": "code",
   "execution_count": 18,
   "metadata": {},
   "outputs": [
    {
     "name": "stdout",
     "output_type": "stream",
     "text": [
      "42\n"
     ]
    }
   ],
   "source": [
    "print(max([len(df[i]) for i in range(len(df))]))"
   ]
  },
  {
   "cell_type": "code",
   "execution_count": 19,
   "metadata": {},
   "outputs": [],
   "source": [
    "# can update LMAX\n",
    "\n",
    "LMAX = 50"
   ]
  },
  {
   "cell_type": "markdown",
   "metadata": {},
   "source": [
    "## Word embeddings"
   ]
  },
  {
   "cell_type": "markdown",
   "metadata": {},
   "source": [
    "### Word2Vec"
   ]
  },
  {
   "cell_type": "code",
   "execution_count": null,
   "metadata": {},
   "outputs": [],
   "source": [
    "EMB_SIZE =300"
   ]
  },
  {
   "cell_type": "code",
   "execution_count": null,
   "metadata": {},
   "outputs": [],
   "source": [
    "import gensim.downloader as api\n",
    "\n",
    "word2vecModel = api.load('word2vec-google-news-300')"
   ]
  },
  {
   "cell_type": "code",
   "execution_count": null,
   "metadata": {},
   "outputs": [],
   "source": [
    "def getW2VTextEmb(words:list[str], model = word2vecModel)->torch.tensor:\n",
    "    \"\"\"\n",
    "    Function to apply the word2Vec on a sentence\n",
    "    \n",
    "    Args:\n",
    "    -----\n",
    "    - `words`: list of words\n",
    "    - `model`: model to use\n",
    "    \n",
    "    Output:\n",
    "    -------\n",
    "    tensor with the embeddings\n",
    "    \"\"\"\n",
    "    defaultVector = np.ones(EMB_SIZE)\n",
    "    \n",
    "    res = []\n",
    "    for word in words:\n",
    "        try:\n",
    "            res.append(torch.from_numpy(model[word]))\n",
    "        except:\n",
    "            res.append(torch.from_numpy(defaultVector))\n",
    "        \n",
    "    return torch.stack(res)\n",
    "\n",
    "def sentences2W2VEmbs(sentences:list[str])->torch.tensor:\n",
    "    \"\"\"\n",
    "    Function to apply the word2Vec on sentences\n",
    "    \n",
    "    Args:\n",
    "    -----\n",
    "    - `sentence`: sentences on which to apply the embeddings\n",
    "\n",
    "    \n",
    "    Output:\n",
    "    -------\n",
    "    tensor with the embeddings\n",
    "    \"\"\"\n",
    "    matrix = torch.zeros((len(sentences), LMAX, EMB_SIZE))\n",
    "    \n",
    "    for i in range(len(sentences)):\n",
    "        sentence = sentences[i]\n",
    "        \n",
    "        embs = getW2VTextEmb(sentence)  # [l, embs]\n",
    "        l = embs.shape[0]\n",
    "        matrix[i, :l, :] = embs\n",
    "        \n",
    "    return matrix\n",
    "\n",
    "def simpleSentences2W2VEmbs(sentence)->torch.tensor:\n",
    "    \"\"\"\n",
    "    Function to apply the word2Vec on sentences\n",
    "    \n",
    "    Args:\n",
    "    -----\n",
    "    - `sentence`: sentence on which to apply the embeddings\n",
    "    \n",
    "    Output:\n",
    "    -------\n",
    "    tensor with the embeddings\n",
    "    \"\"\"\n",
    "    matrix = torch.zeros( LMAX, EMB_SIZE)\n",
    "    \n",
    "    embs = getW2VTextEmb(sentence)  # [l, embs]\n",
    "    l = embs.shape[0]\n",
    "    matrix[:l, :] = embs\n",
    "        \n",
    "    return matrix"
   ]
  },
  {
   "cell_type": "markdown",
   "metadata": {},
   "source": [
    "### GloVe"
   ]
  },
  {
   "cell_type": "code",
   "execution_count": 20,
   "metadata": {},
   "outputs": [],
   "source": [
    "EMB_SIZE =300"
   ]
  },
  {
   "cell_type": "code",
   "execution_count": 21,
   "metadata": {},
   "outputs": [],
   "source": [
    "from torchtext.vocab import GloVe\n",
    "\n",
    "glove = GloVe(name='6B', dim=EMB_SIZE, unk_init = torch.Tensor.normal_)"
   ]
  },
  {
   "cell_type": "code",
   "execution_count": 22,
   "metadata": {},
   "outputs": [],
   "source": [
    "def getGloveTextEmb(words, model = glove):\n",
    "    \"\"\"\n",
    "    Function to apply the word2Vec on a sentence\n",
    "    \n",
    "    Args:\n",
    "    -----\n",
    "    - `words`: list of words\n",
    "    - `model`: model to use\n",
    "    \n",
    "    Output:\n",
    "    -------\n",
    "    tensor with the embeddings\n",
    "    \"\"\"\n",
    "\n",
    "    res = [model[word] for word in words]\n",
    "    \n",
    "    return torch.stack(res)\n",
    "\n",
    "def sentences2GloveEmbs(sentences):\n",
    "    \"\"\"\n",
    "    Function to apply the Glove on a sentence\n",
    "    \n",
    "    Args:\n",
    "    -----\n",
    "    - `words`: list of words\n",
    "    - `model`: model to use\n",
    "    \n",
    "    Output:\n",
    "    -------\n",
    "    tensor with the embeddings\n",
    "    \"\"\"\n",
    "    matrix = torch.zeros((len(sentences), LMAX, EMB_SIZE))\n",
    "    \n",
    "    for i in range(len(sentences)):\n",
    "        sentence = sentences[i]\n",
    "        \n",
    "        embs = getGloveTextEmb(sentence)  # [l, embs]\n",
    "        l = embs.shape[0]\n",
    "        matrix[i, :l, :] = embs\n",
    "        \n",
    "    return matrix\n",
    "\n",
    "def simpleSentences2GloveEmbs(sentence):\n",
    "    \"\"\"\n",
    "    Function to apply the Glove on sentences\n",
    "    \n",
    "    Args:\n",
    "    -----\n",
    "    - `sentence`: sentence on which to apply the embeddings\n",
    "    \n",
    "    Output:\n",
    "    -------\n",
    "    tensor with the embeddings\n",
    "    \"\"\"\n",
    "    matrix = torch.zeros( LMAX, EMB_SIZE)\n",
    "    \n",
    "    embs = getGloveTextEmb(sentence)  # [l, embs]\n",
    "    l = embs.shape[0]\n",
    "    matrix[:l, :] = embs\n",
    "        \n",
    "    return matrix"
   ]
  },
  {
   "cell_type": "markdown",
   "metadata": {},
   "source": [
    "### fasttext"
   ]
  },
  {
   "cell_type": "code",
   "execution_count": 20,
   "metadata": {},
   "outputs": [],
   "source": [
    "EMB_SIZE = 300"
   ]
  },
  {
   "cell_type": "code",
   "execution_count": 21,
   "metadata": {},
   "outputs": [],
   "source": [
    "import fasttext\n",
    "from torchtext.vocab import FastText\n",
    "\n",
    "\n",
    "fastTextEng = FastText(language='en', unk_init = torch.Tensor.normal_)\n",
    "            "
   ]
  },
  {
   "cell_type": "code",
   "execution_count": 22,
   "metadata": {},
   "outputs": [],
   "source": [
    "def getFastTextEmb(words, model = fastTextEng):\n",
    "    \"\"\"\n",
    "    Function to apply the word2Vec on a sentence\n",
    "    \n",
    "    Args:\n",
    "    -----\n",
    "    - `words`: list of words\n",
    "    - `model`: model to use\n",
    "    \n",
    "    Output:\n",
    "    -------\n",
    "    tensor with the embeddings\n",
    "    \"\"\"\n",
    "\n",
    "    res = [model[word] for word in words]\n",
    "    \n",
    "    return torch.stack(res)\n",
    "\n",
    "def sentences2FastTextEmbs(sentences):\n",
    "    \"\"\"\n",
    "    Function to apply the FastText on a sentence\n",
    "    \n",
    "    Args:\n",
    "    -----\n",
    "    - `words`: list of words\n",
    "    - `model`: model to use\n",
    "    \n",
    "    Output:\n",
    "    -------\n",
    "    tensor with the embeddings\n",
    "    \"\"\"\n",
    "    matrix = torch.zeros((len(sentences), LMAX, EMB_SIZE))\n",
    "    \n",
    "    for i in range(len(sentences)):\n",
    "        sentence = sentences[i]\n",
    "        \n",
    "        embs = getFastTextEmb(sentence)  # [l, embs]\n",
    "        l = embs.shape[0]\n",
    "        matrix[i, :l, :] = embs\n",
    "        \n",
    "    return matrix\n",
    "\n",
    "def simpleSentences2FastTextEmbs(sentence):\n",
    "    \"\"\"\n",
    "    Function to apply the FastText on sentences\n",
    "    \n",
    "    Args:\n",
    "    -----\n",
    "    - `sentence`: sentence on which to apply the embeddings\n",
    "    \n",
    "    Output:\n",
    "    -------\n",
    "    tensor with the embeddings\n",
    "    \"\"\"\n",
    "    matrix = torch.zeros( LMAX, EMB_SIZE)\n",
    "    \n",
    "    embs = getFastTextEmb(sentence)  # [l, embs]\n",
    "    l = embs.shape[0]\n",
    "    matrix[:l, :] = embs\n",
    "        \n",
    "    return matrix"
   ]
  },
  {
   "cell_type": "markdown",
   "metadata": {},
   "source": [
    "### Global function"
   ]
  },
  {
   "cell_type": "code",
   "execution_count": 23,
   "metadata": {},
   "outputs": [],
   "source": [
    "EMBTYPE = 'fasttext'"
   ]
  },
  {
   "cell_type": "code",
   "execution_count": 24,
   "metadata": {},
   "outputs": [],
   "source": [
    "def getEmbedding(sentences, method = EMBTYPE):\n",
    "\n",
    "    if method == 'Word2Vec':\n",
    "        embs = simpleSentences2W2VEmbs(sentences)\n",
    "    \n",
    "    if method == 'GloVe':\n",
    "        embs = simpleSentences2GloveEmbs(sentences)\n",
    "\n",
    "    if method == 'fasttext':\n",
    "        #embs = sentences2FastTextEmbs(sentences)\n",
    "        embs = simpleSentences2FastTextEmbs(sentences)\n",
    "    return embs"
   ]
  },
  {
   "cell_type": "markdown",
   "metadata": {},
   "source": [
    "## Model"
   ]
  },
  {
   "cell_type": "markdown",
   "metadata": {},
   "source": [
    "1) simple GRU model"
   ]
  },
  {
   "cell_type": "code",
   "execution_count": 25,
   "metadata": {},
   "outputs": [],
   "source": [
    "class MLP2(nn.Module):\n",
    "    def __init__(self, inputShape:int, outputShape:int, dropout:float = 0.3):\n",
    "        super(MLP2, self).__init__()\n",
    "\n",
    "        self.dropout = dropout\n",
    "        self.inputShape = inputShape\n",
    "        self.outputShape = outputShape\n",
    "\n",
    "        self.delta = (inputShape - outputShape) // 3\n",
    "        dim1 = inputShape - self.delta\n",
    "        dim2 = dim1 - self.delta\n",
    "\n",
    "        self.mlp = nn.Sequential(\n",
    "            nn.Linear(inputShape, dim1),\n",
    "            nn.ReLU(),\n",
    "            nn.Dropout(p=dropout),\n",
    "            nn.Linear(dim1, dim2),\n",
    "            nn.ReLU(),\n",
    "            nn.Dropout(p=dropout),\n",
    "            nn.Linear(dim2, outputShape),\n",
    "        )\n",
    "    \n",
    "    def forward(self, x):\n",
    "        x = self.mlp(x)\n",
    "        return x"
   ]
  },
  {
   "cell_type": "code",
   "execution_count": 26,
   "metadata": {},
   "outputs": [],
   "source": [
    "class SimpleGRUClassifier(nn.Module):\n",
    "    def __init__(self, inputSize, hiddenSize, stateSize, outputSize):\n",
    "        super(SimpleGRUClassifier, self).__init__()\n",
    "\n",
    "        self.InMlp = MLP2(inputSize, hiddenSize)       # to bring the embedding to a same dimension\n",
    "\n",
    "        self.gru = nn.GRU(input_size=hiddenSize, \n",
    "                          hidden_size=stateSize, \n",
    "                          num_layers=1, \n",
    "                          bidirectional=True, \n",
    "                          batch_first=True)\n",
    "\n",
    "        self.outMlp = MLP2(stateSize*2*LMAX, outputSize)  # to bring everything outside of the NN\n",
    "\n",
    "        #self.sigmoid = nn.Sigmoid()\n",
    "\n",
    "    def forward(self, x):\n",
    "        \n",
    "        \n",
    "        x = self.InMlp(x)\n",
    "        \n",
    "\n",
    "        output, _ = self.gru(x)   # [N, L, 2*hiddenSize]\n",
    "        \n",
    "\n",
    "        output = self.outMlp(output.reshape(output.shape[0], -1))\n",
    "                \n",
    "        return output"
   ]
  },
  {
   "cell_type": "code",
   "execution_count": 27,
   "metadata": {},
   "outputs": [],
   "source": [
    "class SelfAttention(nn.Module):\n",
    "    def __init__(self, inputShape:int, outputShape:int):\n",
    "        \"\"\" \n",
    "        Args:\n",
    "        -----\n",
    "        - `inputShape`: shape of the input\n",
    "        - `outputShape`: shape of the output (second shape of the value matrix)\n",
    "        \"\"\"\n",
    "        \n",
    "        super(SelfAttention, self).__init__()\n",
    "        \n",
    "        self.inputShape = inputShape\n",
    "        self.outputShape = outputShape\n",
    "        \n",
    "        # matrices for the Q, K, V\n",
    "        self.W_q = nn.Linear(inputShape, inputShape)\n",
    "        self.W_k = nn.Linear(inputShape, inputShape)\n",
    "        self.W_v = nn.Linear(inputShape, outputShape)\n",
    "        \n",
    "    def forward(self, x):\n",
    "        \"\"\" \n",
    "        Args:\n",
    "        -----\n",
    "        - `x`: tensor [N, L, inputShape]\n",
    "        \"\"\"\n",
    "        # Obtainng Q, K, V\n",
    "        Q = self.W_q(x)   # [N, L, inputShape]\n",
    "        K = self.W_k(x)   # [N, L, inputShape]\n",
    "        V = self.W_v(x)   # [N, L, outputShape]\n",
    "        \n",
    "        scores = torch.bmm(Q, K.transpose(-2,-1)) / torch.sqrt(torch.tensor(self.inputShape).float())      # [N, L, L]\n",
    "        \n",
    "        weights = F.softmax(scores, dim=-1)       # [N, L, L]\n",
    "        \n",
    "        out = torch.bmm(weights, V)        # [N, L, outputShape]\n",
    "        \n",
    "        return out, weights\n",
    "    \n",
    "\n",
    "\n",
    "class AttentionGRUClassifier(nn.Module):\n",
    "    def __init__(self, inputSize, hiddenSize, stateSize, outputSize):\n",
    "        super(AttentionGRUClassifier, self).__init__()\n",
    "\n",
    "        self.InMlp = MLP2(inputSize, hiddenSize)       # to bring the embedding to some given dimension\n",
    "\n",
    "        self.gru = nn.GRU(input_size=hiddenSize, \n",
    "                          hidden_size=stateSize, \n",
    "                          num_layers=1, \n",
    "                          bidirectional=True, \n",
    "                          batch_first=True)\n",
    "        \n",
    "        self.attentionLayer = SelfAttention(2*stateSize, 2*stateSize)  #*2 because of the bidirectionnal GRU\n",
    "\n",
    "        self.outMlp = MLP2(stateSize*2*LMAX, outputSize)  # to bring everything outside of the NN\n",
    "\n",
    "    def forward(self, x):\n",
    "                \n",
    "        x = self.InMlp(x)\n",
    "\n",
    "        output, _ = self.gru(x)   # [N, L, 2*hiddenSize]\n",
    "        \n",
    "        \n",
    "        output, weights = self.attentionLayer(output)\n",
    "\n",
    "        output = self.outMlp(output.reshape(output.shape[0], -1))\n",
    "                \n",
    "        return output, weights"
   ]
  },
  {
   "cell_type": "markdown",
   "metadata": {},
   "source": [
    "## Dataset Class"
   ]
  },
  {
   "cell_type": "code",
   "execution_count": 28,
   "metadata": {},
   "outputs": [],
   "source": [
    "class textDatasets(Dataset):\n",
    "    \"\"\"\n",
    "    Class to generate data tuples for learning\n",
    "    \"\"\"\n",
    "\n",
    "    def __init__(self, langList:list[list[str]], y:list[int]):\n",
    "        \"\"\" \n",
    "        Args:\n",
    "        -----\n",
    "        - `langList`: list of the sentences\n",
    "        - `y`: list of labels\n",
    "        \"\"\"\n",
    "\n",
    "        self.langList = langList\n",
    "        self.y = y\n",
    "        self.length = len(langList)\n",
    "\n",
    "\n",
    "    def __len__(self):\n",
    "        return self.length\n",
    "    \n",
    "    def __getitem__(self, idx):\n",
    "\n",
    "        \n",
    "        s = getEmbedding(self.langList[idx])\n",
    "        y = self.y[idx]\n",
    "        \n",
    "        return s, y"
   ]
  },
  {
   "cell_type": "code",
   "execution_count": 29,
   "metadata": {},
   "outputs": [],
   "source": [
    "L = int(0.7*len(df))\n",
    "dfTrain = df[:L]\n",
    "dfTest = df[L:]\n",
    "\n",
    "y1 = d['Sentiment'].values\n",
    "y2 = [labelDict[y[i]] for i in range(len(y))]\n",
    "yTrain = y2[:L]\n",
    "yTest = y2[L:]\n",
    "\n",
    "nbBatch = 200\n",
    "\n",
    "datasetLearning = textDatasets(langList=dfTrain, y = yTrain)\n",
    "datasetTest = textDatasets(langList=dfTest, y = yTest)\n",
    "\n",
    "loaderLearning = data.DataLoader(datasetLearning, batch_size = nbBatch, shuffle= True, num_workers = 1)\n",
    "loaderTest = data.DataLoader(datasetTest, batch_size = nbBatch, shuffle= True, num_workers = 1)\n"
   ]
  },
  {
   "cell_type": "code",
   "execution_count": 30,
   "metadata": {},
   "outputs": [
    {
     "data": {
      "image/png": "[encoded data removed]",
      "text/plain": [
       "<Figure size 640x480 with 1 Axes>"
      ]
     },
     "metadata": {},
     "output_type": "display_data"
    },
    {
     "data": {
      "image/png": "[encoded data removed]",
      "text/plain": [
       "<Figure size 640x480 with 1 Axes>"
      ]
     },
     "metadata": {},
     "output_type": "display_data"
    }
   ],
   "source": [
    "nb = getNb(y1[:L])\n",
    "nb = getNb(y1[L:])"
   ]
  },
  {
   "cell_type": "markdown",
   "metadata": {},
   "source": [
    "## Training"
   ]
  },
  {
   "cell_type": "code",
   "execution_count": 31,
   "metadata": {},
   "outputs": [],
   "source": [
    "inputShape = EMB_SIZE\n",
    "hiddenShape = 128\n",
    "hiddenStatesShape = 128\n",
    "outputShape = len(labelDict)\n",
    "\n",
    "if attentionNetworkBool:\n",
    "    NN = AttentionGRUClassifier(inputShape, hiddenShape, hiddenStatesShape, outputShape).to(device)\n",
    "else:\n",
    "    NN = SimpleGRUClassifier(inputShape, hiddenShape, hiddenStatesShape, outputShape).to(device)\n"
   ]
  },
  {
   "cell_type": "code",
   "execution_count": 32,
   "metadata": {},
   "outputs": [],
   "source": [
    "\n",
    "def getAccuracy(out, gtruth):\n",
    "    \"\"\"\n",
    "    Function to get the accuracy\n",
    "    \n",
    "    Args:\n",
    "    -----\n",
    "    - `out`: prediction of the neural network\n",
    "    - `gtruth`: ground truths\n",
    "    \n",
    "    Ouptut:\n",
    "    -------\n",
    "    number of correctly classified instances\n",
    "    \"\"\"\n",
    "    \n",
    "    gtruth = gtruth.reshape(-1)\n",
    "    _, i = out.topk(1, dim=-1)\n",
    "    i = i.reshape(-1)\n",
    "    return torch.sum(i == gtruth)\n"
   ]
  },
  {
   "cell_type": "code",
   "execution_count": 33,
   "metadata": {},
   "outputs": [
    {
     "name": "stderr",
     "output_type": "stream",
     "text": [
      "/home/jpierre/anaconda3/envs/myenvPy/lib/python3.9/site-packages/tqdm/auto.py:21: TqdmWarning: IProgress not found. Please update jupyter and ipywidgets. See https://ipywidgets.readthedocs.io/en/stable/user_install.html\n",
      "  from .autonotebook import tqdm as notebook_tqdm\n"
     ]
    }
   ],
   "source": [
    "nbEpoch=300\n",
    "loaderLearning = loaderLearning\n",
    "loaderValidation = loaderTest\n",
    "loaderTest = loaderTest\n",
    "decay = .00001\n",
    "\n",
    "criterion = nn.CrossEntropyLoss()\n",
    "\n",
    "optimizer = torch.optim.Adam(NN.parameters(), lr=0.005, weight_decay=5e-4)"
   ]
  },
  {
   "cell_type": "code",
   "execution_count": 34,
   "metadata": {},
   "outputs": [
    {
     "name": "stderr",
     "output_type": "stream",
     "text": [
      "Failed to detect the name of this notebook, you can set it manually with the WANDB_NOTEBOOK_NAME environment variable to enable code saving.\n",
      "\u001b[34m\u001b[1mwandb\u001b[0m: Currently logged in as: \u001b[33mjepi1202\u001b[0m (\u001b[33muliege_action_spotting_2022_2023_context\u001b[0m). Use \u001b[1m`wandb login --relogin`\u001b[0m to force relogin\n"
     ]
    },
    {
     "data": {
      "text/html": [
       "wandb version 0.16.1 is available!  To upgrade, please run:\n",
       " $ pip install wandb --upgrade"
      ],
      "text/plain": [
       "<IPython.core.display.HTML object>"
      ]
     },
     "metadata": {},
     "output_type": "display_data"
    },
    {
     "data": {
      "text/html": [
       "Tracking run with wandb version 0.16.0"
      ],
      "text/plain": [
       "<IPython.core.display.HTML object>"
      ]
     },
     "metadata": {},
     "output_type": "display_data"
    },
    {
     "data": {
      "text/html": [
       "Run data is saved locally in <code>/home/jpierre/other/sentiment_analyzis/wandb/run-20231207_224114-mzl6zir5</code>"
      ],
      "text/plain": [
       "<IPython.core.display.HTML object>"
      ]
     },
     "metadata": {},
     "output_type": "display_data"
    },
    {
     "data": {
      "text/html": [
       "Syncing run <strong><a href='https://wandb.ai/uliege_action_spotting_2022_2023_context/master_thesis/runs/mzl6zir5' target=\"_blank\">sentiment_ana_fast_financial_attentionB</a></strong> to <a href='https://wandb.ai/uliege_action_spotting_2022_2023_context/master_thesis' target=\"_blank\">Weights & Biases</a> (<a href='https://wandb.me/run' target=\"_blank\">docs</a>)<br/>"
      ],
      "text/plain": [
       "<IPython.core.display.HTML object>"
      ]
     },
     "metadata": {},
     "output_type": "display_data"
    },
    {
     "data": {
      "text/html": [
       " View project at <a href='https://wandb.ai/uliege_action_spotting_2022_2023_context/master_thesis' target=\"_blank\">https://wandb.ai/uliege_action_spotting_2022_2023_context/master_thesis</a>"
      ],
      "text/plain": [
       "<IPython.core.display.HTML object>"
      ]
     },
     "metadata": {},
     "output_type": "display_data"
    },
    {
     "data": {
      "text/html": [
       " View run at <a href='https://wandb.ai/uliege_action_spotting_2022_2023_context/master_thesis/runs/mzl6zir5' target=\"_blank\">https://wandb.ai/uliege_action_spotting_2022_2023_context/master_thesis/runs/mzl6zir5</a>"
      ],
      "text/plain": [
       "<IPython.core.display.HTML object>"
      ]
     },
     "metadata": {},
     "output_type": "display_data"
    },
    {
     "data": {
      "text/plain": [
       "[]"
      ]
     },
     "execution_count": 34,
     "metadata": {},
     "output_type": "execute_result"
    }
   ],
   "source": [
    "wandb.init(project = 'master_thesis', name = \"sentiment_ana_fast_financial_attentionB\")\n",
    "wandb.watch(NN, log = 'all', log_freq=500)"
   ]
  },
  {
   "cell_type": "code",
   "execution_count": 35,
   "metadata": {},
   "outputs": [
    {
     "name": "stderr",
     "output_type": "stream",
     "text": [
      "100%|██████████| 21/21 [00:02<00:00,  9.87it/s]\n",
      "100%|██████████| 21/21 [00:01<00:00, 11.17it/s]\n",
      "100%|██████████| 21/21 [00:01<00:00, 11.15it/s]\n",
      "100%|██████████| 21/21 [00:06<00:00,  3.31it/s]\n",
      "100%|██████████| 21/21 [00:01<00:00, 10.83it/s]\n",
      "100%|██████████| 21/21 [00:01<00:00, 11.22it/s]\n",
      "100%|██████████| 21/21 [00:02<00:00, 10.14it/s]\n",
      "100%|██████████| 21/21 [00:05<00:00,  3.54it/s]\n",
      "100%|██████████| 21/21 [00:01<00:00, 11.12it/s]\n",
      "100%|██████████| 21/21 [00:01<00:00, 10.84it/s]\n",
      "100%|██████████| 21/21 [00:04<00:00,  4.32it/s]\n",
      "100%|██████████| 21/21 [00:01<00:00, 11.20it/s]\n",
      "100%|██████████| 21/21 [00:01<00:00, 11.20it/s]\n",
      "100%|██████████| 21/21 [00:01<00:00, 11.19it/s]\n",
      "100%|██████████| 21/21 [00:07<00:00,  2.90it/s]\n",
      "100%|██████████| 21/21 [00:01<00:00, 11.24it/s]\n",
      "100%|██████████| 21/21 [00:01<00:00, 11.19it/s]\n",
      " 81%|████████  | 17/21 [00:04<00:01,  3.86it/s]\n"
     ]
    },
    {
     "ename": "KeyboardInterrupt",
     "evalue": "",
     "output_type": "error",
     "traceback": [
      "\u001b[0;31m---------------------------------------------------------------------------\u001b[0m",
      "\u001b[0;31mKeyboardInterrupt\u001b[0m                         Traceback (most recent call last)",
      "Cell \u001b[0;32mIn[35], line 70\u001b[0m\n\u001b[1;32m     66\u001b[0m             j \u001b[38;5;241m+\u001b[39m\u001b[38;5;241m=\u001b[39m \u001b[38;5;241m1\u001b[39m\n\u001b[1;32m     68\u001b[0m \u001b[38;5;28;01mif\u001b[39;00m \u001b[38;5;18m__name__\u001b[39m \u001b[38;5;241m==\u001b[39m \u001b[38;5;124m\"\u001b[39m\u001b[38;5;124m__main__\u001b[39m\u001b[38;5;124m\"\u001b[39m:\n\u001b[0;32m---> 70\u001b[0m     \u001b[43mtrain\u001b[49m\u001b[43m(\u001b[49m\u001b[43m)\u001b[49m\n",
      "Cell \u001b[0;32mIn[35], line 63\u001b[0m, in \u001b[0;36mtrain\u001b[0;34m()\u001b[0m\n\u001b[1;32m     60\u001b[0m NN\u001b[38;5;241m.\u001b[39mtrain()\n\u001b[1;32m     62\u001b[0m \u001b[38;5;28;01mif\u001b[39;00m attentionNetworkBool:\n\u001b[0;32m---> 63\u001b[0m     \u001b[43mtorch\u001b[49m\u001b[38;5;241;43m.\u001b[39;49m\u001b[43msave\u001b[49m\u001b[43m(\u001b[49m\u001b[43mNN\u001b[49m\u001b[38;5;241;43m.\u001b[39;49m\u001b[43mstate_dict\u001b[49m\u001b[43m(\u001b[49m\u001b[43m)\u001b[49m\u001b[43m,\u001b[49m\u001b[43m \u001b[49m\u001b[38;5;124;43m\"\u001b[39;49m\u001b[38;5;124;43mmod_fastText_fin_attention_1.pt\u001b[39;49m\u001b[38;5;124;43m\"\u001b[39;49m\u001b[43m)\u001b[49m\n\u001b[1;32m     64\u001b[0m \u001b[38;5;28;01melse\u001b[39;00m:\n\u001b[1;32m     65\u001b[0m     torch\u001b[38;5;241m.\u001b[39msave(NN\u001b[38;5;241m.\u001b[39mstate_dict(), \u001b[38;5;124m\"\u001b[39m\u001b[38;5;124mmod_fastText_fin_1.pt\u001b[39m\u001b[38;5;124m\"\u001b[39m)\n",
      "File \u001b[0;32m~/anaconda3/envs/myenvPy/lib/python3.9/site-packages/torch/serialization.py:619\u001b[0m, in \u001b[0;36msave\u001b[0;34m(obj, f, pickle_module, pickle_protocol, _use_new_zipfile_serialization, _disable_byteorder_record)\u001b[0m\n\u001b[1;32m    617\u001b[0m \u001b[38;5;28;01mif\u001b[39;00m _use_new_zipfile_serialization:\n\u001b[1;32m    618\u001b[0m     \u001b[38;5;28;01mwith\u001b[39;00m _open_zipfile_writer(f) \u001b[38;5;28;01mas\u001b[39;00m opened_zipfile:\n\u001b[0;32m--> 619\u001b[0m         \u001b[43m_save\u001b[49m\u001b[43m(\u001b[49m\u001b[43mobj\u001b[49m\u001b[43m,\u001b[49m\u001b[43m \u001b[49m\u001b[43mopened_zipfile\u001b[49m\u001b[43m,\u001b[49m\u001b[43m \u001b[49m\u001b[43mpickle_module\u001b[49m\u001b[43m,\u001b[49m\u001b[43m \u001b[49m\u001b[43mpickle_protocol\u001b[49m\u001b[43m,\u001b[49m\u001b[43m \u001b[49m\u001b[43m_disable_byteorder_record\u001b[49m\u001b[43m)\u001b[49m\n\u001b[1;32m    620\u001b[0m         \u001b[38;5;28;01mreturn\u001b[39;00m\n\u001b[1;32m    621\u001b[0m \u001b[38;5;28;01melse\u001b[39;00m:\n",
      "File \u001b[0;32m~/anaconda3/envs/myenvPy/lib/python3.9/site-packages/torch/serialization.py:853\u001b[0m, in \u001b[0;36m_save\u001b[0;34m(obj, zip_file, pickle_module, pickle_protocol, _disable_byteorder_record)\u001b[0m\n\u001b[1;32m    851\u001b[0m \u001b[38;5;66;03m# Now that it is on the CPU we can directly copy it into the zip file\u001b[39;00m\n\u001b[1;32m    852\u001b[0m num_bytes \u001b[38;5;241m=\u001b[39m storage\u001b[38;5;241m.\u001b[39mnbytes()\n\u001b[0;32m--> 853\u001b[0m \u001b[43mzip_file\u001b[49m\u001b[38;5;241;43m.\u001b[39;49m\u001b[43mwrite_record\u001b[49m\u001b[43m(\u001b[49m\u001b[43mname\u001b[49m\u001b[43m,\u001b[49m\u001b[43m \u001b[49m\u001b[43mstorage\u001b[49m\u001b[38;5;241;43m.\u001b[39;49m\u001b[43mdata_ptr\u001b[49m\u001b[43m(\u001b[49m\u001b[43m)\u001b[49m\u001b[43m,\u001b[49m\u001b[43m \u001b[49m\u001b[43mnum_bytes\u001b[49m\u001b[43m)\u001b[49m\n",
      "\u001b[0;31mKeyboardInterrupt\u001b[0m: "
     ]
    }
   ],
   "source": [
    "def train():\n",
    "\n",
    "    j = 0\n",
    "    max_valid = float('-inf')\n",
    "\n",
    "    for i in range(nbEpoch):\n",
    "\n",
    "        NN.train()\n",
    "\n",
    "        for x, y in tqdm(loaderLearning):\n",
    "           \n",
    "            x = x.to(device)\n",
    "            y = y.to(device)\n",
    "\n",
    "            if attentionNetworkBool:\n",
    "                out, _ =  NN(x)\n",
    "            else:\n",
    "                out =  NN(x)\n",
    "\n",
    "            loss = criterion(out, y)\n",
    "\n",
    "            optimizer.zero_grad()\n",
    "            loss.backward()\n",
    "            optimizer.step()\n",
    "\n",
    "            if ((j+1) % 5) == 0:\n",
    "                \n",
    "                max_param_value = max(torch.max(torch.abs(param)).item() for param in NN.parameters())\n",
    "\n",
    "                max_grad_value = max(torch.max(torch.abs(param.grad)).item() for param in NN.parameters() if param.grad is not None)\n",
    "                \n",
    "                \n",
    "                wandb.log({'epoch': i, 'Training Loss': loss, 'max param': max_param_value, 'max grad': max_grad_value})\n",
    "                \n",
    "\n",
    "\n",
    "            if ((j+1) % 75) == 0:\n",
    "                NN.eval()\n",
    "                \n",
    "                with torch.no_grad():\n",
    "                    \n",
    "                    # training accuracy\n",
    "                    trainAcc = 0\n",
    "                    for x, y in loaderLearning:\n",
    "           \n",
    "                        x = x.to(device)\n",
    "                        y = y.to(device)\n",
    "\n",
    "                        if attentionNetworkBool:\n",
    "                            out, _ =  NN(x)\n",
    "                        else:\n",
    "                            out =  NN(x)\n",
    "                    \n",
    "                        trainAcc += getAccuracy(out, y)\n",
    "                        \n",
    "                    \n",
    "                    wandb.log({'epoch': i, 'training accuracy': trainAcc / len(datasetLearning)})\n",
    "                    \n",
    "                    \n",
    "                NN.train()\n",
    "                \n",
    "                if attentionNetworkBool:\n",
    "                    torch.save(NN.state_dict(), \"mod_fastText_fin_attention_1.pt\")\n",
    "                else:\n",
    "                    torch.save(NN.state_dict(), \"mod_fastText_fin_1.pt\")\n",
    "            j += 1\n",
    "            \n",
    "if __name__ == \"__main__\":\n",
    "\n",
    "    train()"
   ]
  },
  {
   "cell_type": "markdown",
   "metadata": {},
   "source": [
    "## Analyzing the results"
   ]
  },
  {
   "cell_type": "code",
   "execution_count": null,
   "metadata": {},
   "outputs": [],
   "source": [
    "sd = torch.load('/home/jpierre/other/sentiment_analyzis/mod_fastText_best_c.pt')\n",
    "NN.load_state_dict(sd)\n",
    "NN = NN.to(device)\n",
    "NN.eval()\n",
    "\n",
    "# next part does not support attention (yet ?), just copy paste stuff from the other notebook ... (requires some conditions)"
   ]
  },
  {
   "cell_type": "code",
   "execution_count": 119,
   "metadata": {},
   "outputs": [],
   "source": [
    "preds = None\n",
    "y = None\n",
    "for x_test, y_test in loaderTest:\n",
    "    x_test = x_test.to(device)\n",
    "    y_test = y_test.to(device)\n",
    "\n",
    "    out =  NN(x_test)\n",
    "    \n",
    "    if preds is None:\n",
    "        preds = out\n",
    "    else:\n",
    "        preds = torch.vstack((preds, out))\n",
    "        \n",
    "    if y is None:\n",
    "        y = y_test.reshape(-1)\n",
    "    else:\n",
    "        y = torch.concat((y.reshape(-1), y_test.reshape(-1)))\n"
   ]
  },
  {
   "cell_type": "code",
   "execution_count": 120,
   "metadata": {},
   "outputs": [],
   "source": [
    "def plot_confusion_matrix(cm,\n",
    "                          target_names,\n",
    "                          title='Confusion matrix',\n",
    "                          cmap=None,\n",
    "                          normalize=True):\n",
    "    \"\"\"\n",
    "    given a sklearn confusion matrix (cm), make a nice plot\n",
    "\n",
    "    Arguments\n",
    "    ---------\n",
    "    cm:           confusion matrix from sklearn.metrics.confusion_matrix\n",
    "\n",
    "    target_names: given classification classes such as [0, 1, 2]\n",
    "                  the class names, for example: ['high', 'medium', 'low']\n",
    "\n",
    "    title:        the text to display at the top of the matrix\n",
    "\n",
    "    cmap:         the gradient of the values displayed from matplotlib.pyplot.cm\n",
    "                  see http://matplotlib.org/examples/color/colormaps_reference.html\n",
    "                  plt.get_cmap('jet') or plt.cm.Blues\n",
    "\n",
    "    normalize:    If False, plot the raw numbers\n",
    "                  If True, plot the proportions\n",
    "\n",
    "    Usage\n",
    "    -----\n",
    "    plot_confusion_matrix(cm           = cm,                  # confusion matrix created by\n",
    "                                                              # sklearn.metrics.confusion_matrix\n",
    "                          normalize    = True,                # show proportions\n",
    "                          target_names = y_labels_vals,       # list of names of the classes\n",
    "                          title        = best_estimator_name) # title of graph\n",
    "\n",
    "    Citiation\n",
    "    ---------\n",
    "    http://scikit-learn.org/stable/auto_examples/model_selection/plot_confusion_matrix.html\n",
    "\n",
    "    \"\"\"\n",
    "    accuracy = np.trace(cm) / float(np.sum(cm))\n",
    "    misclass = 1 - accuracy\n",
    "\n",
    "    if cmap is None:\n",
    "        cmap = plt.get_cmap('Blues')\n",
    "        \n",
    "    if normalize:\n",
    "        cm = cm.astype('float') / cm.sum(axis=1)[:, np.newaxis]\n",
    "\n",
    "\n",
    "    plt.figure(figsize=(8, 6))\n",
    "    plt.imshow(cm, interpolation='nearest', cmap=cmap)\n",
    "    plt.title(title)\n",
    "    plt.colorbar()\n",
    "\n",
    "    if target_names is not None:\n",
    "        tick_marks = np.arange(len(target_names))\n",
    "        plt.xticks(tick_marks, target_names, rotation=45)\n",
    "        plt.yticks(tick_marks, target_names)\n",
    "\n",
    "    thresh = cm.max() / 1.5 if normalize else cm.max() / 2\n",
    "    for i, j in itertools.product(range(cm.shape[0]), range(cm.shape[1])):\n",
    "        if normalize:\n",
    "            plt.text(j, i, \"{:0.4f}\".format(cm[i, j]),\n",
    "                     horizontalalignment=\"center\",\n",
    "                     color=\"white\" if cm[i, j] > thresh else \"black\")\n",
    "        else:\n",
    "            plt.text(j, i, \"{:,}\".format(cm[i, j]),\n",
    "                     horizontalalignment=\"center\",\n",
    "                     color=\"white\" if cm[i, j] > thresh else \"black\")\n",
    "\n",
    "\n",
    "    plt.tight_layout()\n",
    "    plt.ylabel('True label')\n",
    "    plt.xlabel('Predicted label\\naccuracy={:0.4f}; misclass={:0.4f}'.format(accuracy, misclass))\n",
    "    plt.savefig('conf_mat.png')\n",
    "    plt.show()\n",
    "\n"
   ]
  },
  {
   "cell_type": "code",
   "execution_count": 121,
   "metadata": {},
   "outputs": [],
   "source": [
    "y = y.cpu().numpy()\n",
    "_, i = preds.topk(1, dim = -1)\n",
    "predictions = i.reshape(-1).cpu().numpy()"
   ]
  },
  {
   "cell_type": "code",
   "execution_count": null,
   "metadata": {},
   "outputs": [],
   "source": []
  },
  {
   "cell_type": "code",
   "execution_count": 122,
   "metadata": {},
   "outputs": [
    {
     "name": "stdout",
     "output_type": "stream",
     "text": [
      "[[152  83  29]\n",
      " [137 691  98]\n",
      " [ 46 132 385]]\n"
     ]
    },
    {
     "data": {
      "image/png": "[encoded data removed]",
      "text/plain": [
       "<Figure size 800x600 with 2 Axes>"
      ]
     },
     "metadata": {},
     "output_type": "display_data"
    }
   ],
   "source": [
    "from sklearn.metrics import confusion_matrix\n",
    "import itertools\n",
    "\n",
    "conf_matrix = confusion_matrix(y, predictions)\n",
    "print(conf_matrix)\n",
    "plot_confusion_matrix(conf_matrix, ['negative', 'neutral', 'positive'], normalize=True)"
   ]
  },
  {
   "cell_type": "code",
   "execution_count": null,
   "metadata": {},
   "outputs": [],
   "source": []
  }
 ],
 "metadata": {
  "kernelspec": {
   "display_name": "Python [conda env:myenvPy]",
   "language": "python",
   "name": "conda-env-myenvPy-py"
  },
  "language_info": {
   "codemirror_mode": {
    "name": "ipython",
    "version": 3
   },
   "file_extension": ".py",
   "mimetype": "text/x-python",
   "name": "python",
   "nbconvert_exporter": "python",
   "pygments_lexer": "ipython3",
   "version": "3.9.18"
  }
 },
 "nbformat": 4,
 "nbformat_minor": 4
}
