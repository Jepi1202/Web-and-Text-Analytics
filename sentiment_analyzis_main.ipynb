{
 "cells": [
  {
   "cell_type": "code",
   "execution_count": 2,
   "metadata": {},
   "outputs": [],
   "source": [
    "import torch\n",
    "import torch.nn as nn\n",
    "import torch.optim as optim\n",
    "import torch.nn.functional as F\n",
    "\n",
    "import numpy as np\n",
    "\n",
    "import pickle\n",
    "import random\n",
    "import math\n",
    "import time\n",
    "\n",
    "import nltk\n",
    "from nltk.tokenize import sent_tokenize\n",
    "\n",
    "import re\n",
    "\n",
    "from tqdm import tqdm\n",
    "\n",
    "import wandb\n",
    "\n",
    "import torch.utils.data as data\n",
    "from torch.utils.data import Dataset\n",
    "\n",
    "import pandas as pd\n",
    "from tqdm import tqdm\n",
    "import matplotlib.pyplot as plt\n"
   ]
  },
  {
   "cell_type": "markdown",
   "metadata": {},
   "source": [
    "### Global variables"
   ]
  },
  {
   "cell_type": "code",
   "execution_count": 3,
   "metadata": {},
   "outputs": [],
   "source": [
    "LMAX = 40\n",
    "\n",
    "attentionNetworkBool = 1"
   ]
  },
  {
   "cell_type": "code",
   "execution_count": 4,
   "metadata": {},
   "outputs": [
    {
     "name": "stdout",
     "output_type": "stream",
     "text": [
      "cuda:0\n"
     ]
    }
   ],
   "source": [
    "device = torch.device(\"cuda:0\" if torch.cuda.is_available() else \"cpu\")\n",
    "print(device)"
   ]
  },
  {
   "cell_type": "markdown",
   "metadata": {},
   "source": [
    "### Get the data"
   ]
  },
  {
   "cell_type": "markdown",
   "metadata": {},
   "source": [
    "You have to adpt the path to your computer\n",
    "\n",
    "The data can be downloaded there https://www.kaggle.com/code/apekshakom/sentiment-analysis-of-restaurant-reviews"
   ]
  },
  {
   "cell_type": "code",
   "execution_count": 5,
   "metadata": {},
   "outputs": [],
   "source": [
    "file_path = '/home/jpierre/other/sentiment_analyzis/data/a1_RestaurantReviews_HistoricDump.tsv'\n",
    "\n",
    "d = pd.read_csv(file_path, delimiter = '\\t', quoting = 3)\n",
    "\n"
   ]
  },
  {
   "cell_type": "code",
   "execution_count": 6,
   "metadata": {},
   "outputs": [
    {
     "data": {
      "text/html": [
       "<div>\n",
       "<style scoped>\n",
       "    .dataframe tbody tr th:only-of-type {\n",
       "        vertical-align: middle;\n",
       "    }\n",
       "\n",
       "    .dataframe tbody tr th {\n",
       "        vertical-align: top;\n",
       "    }\n",
       "\n",
       "    .dataframe thead th {\n",
       "        text-align: right;\n",
       "    }\n",
       "</style>\n",
       "<table border=\"1\" class=\"dataframe\">\n",
       "  <thead>\n",
       "    <tr style=\"text-align: right;\">\n",
       "      <th></th>\n",
       "      <th>Review</th>\n",
       "      <th>Liked</th>\n",
       "    </tr>\n",
       "  </thead>\n",
       "  <tbody>\n",
       "    <tr>\n",
       "      <th>0</th>\n",
       "      <td>Wow... Loved this place.</td>\n",
       "      <td>1</td>\n",
       "    </tr>\n",
       "    <tr>\n",
       "      <th>1</th>\n",
       "      <td>Crust is not good.</td>\n",
       "      <td>0</td>\n",
       "    </tr>\n",
       "    <tr>\n",
       "      <th>2</th>\n",
       "      <td>Not tasty and the texture was just nasty.</td>\n",
       "      <td>0</td>\n",
       "    </tr>\n",
       "    <tr>\n",
       "      <th>3</th>\n",
       "      <td>Stopped by during the late May bank holiday of...</td>\n",
       "      <td>1</td>\n",
       "    </tr>\n",
       "    <tr>\n",
       "      <th>4</th>\n",
       "      <td>The selection on the menu was great and so wer...</td>\n",
       "      <td>1</td>\n",
       "    </tr>\n",
       "  </tbody>\n",
       "</table>\n",
       "</div>"
      ],
      "text/plain": [
       "                                              Review  Liked\n",
       "0                           Wow... Loved this place.      1\n",
       "1                                 Crust is not good.      0\n",
       "2          Not tasty and the texture was just nasty.      0\n",
       "3  Stopped by during the late May bank holiday of...      1\n",
       "4  The selection on the menu was great and so wer...      1"
      ]
     },
     "execution_count": 6,
     "metadata": {},
     "output_type": "execute_result"
    }
   ],
   "source": [
    "d.head(5)"
   ]
  },
  {
   "cell_type": "code",
   "execution_count": 7,
   "metadata": {},
   "outputs": [
    {
     "name": "stdout",
     "output_type": "stream",
     "text": [
      "Not tasty and the texture was just nasty.\n"
     ]
    }
   ],
   "source": [
    "df = d['Review'].values\n",
    "y = d['Liked'].values\n",
    "print(df[2])"
   ]
  },
  {
   "cell_type": "code",
   "execution_count": 8,
   "metadata": {},
   "outputs": [],
   "source": [
    "labelDict = {}\n",
    "labelDict[0] = 'dislike'\n",
    "labelDict[1] = 'like'"
   ]
  },
  {
   "cell_type": "markdown",
   "metadata": {},
   "source": [
    "## Exploring data"
   ]
  },
  {
   "cell_type": "markdown",
   "metadata": {},
   "source": [
    "1) Length of our sentences"
   ]
  },
  {
   "cell_type": "code",
   "execution_count": 9,
   "metadata": {},
   "outputs": [
    {
     "data": {
      "image/png": "[encoded data removed]",
      "text/plain": [
       "<Figure size 640x480 with 1 Axes>"
      ]
     },
     "metadata": {},
     "output_type": "display_data"
    },
    {
     "name": "stdout",
     "output_type": "stream",
     "text": [
      "900\n"
     ]
    }
   ],
   "source": [
    "def getLength(data:list, display:bool = True)->list:\n",
    "    \"\"\" \n",
    "    Function to get the distribution of the lengths of the sentences in \n",
    "    our data\n",
    "    \n",
    "    Args:\n",
    "    -----\n",
    "    - `data`: list with the sentences\n",
    "    - `display`(optional): boolean to set the plot of the histogram\n",
    "    \n",
    "    Output:\n",
    "    -------\n",
    "    the list of lengths\n",
    "    \"\"\"\n",
    "    L = [len(data[i].split(' ')) for i in range(len(data))]\n",
    "\n",
    "    if display:\n",
    "        plt.hist(L, bins='auto')\n",
    "        plt.xlabel('Length of the sentence')\n",
    "        plt.ylabel('Number of instances')\n",
    "        plt.savefig('hist.png')\n",
    "        plt.show()\n",
    "    return L\n",
    "\n",
    "L = getLength(df)\n",
    "print(len(L))"
   ]
  },
  {
   "cell_type": "markdown",
   "metadata": {},
   "source": [
    "The sentences have quite diverse lengths but the mean is a bit small compared to other datasets"
   ]
  },
  {
   "cell_type": "markdown",
   "metadata": {},
   "source": [
    "2) Repartition of the labels"
   ]
  },
  {
   "cell_type": "code",
   "execution_count": 10,
   "metadata": {},
   "outputs": [],
   "source": [
    "def getNb(labelData:list, labelDict:dict = labelDict, display:bool = True)->np.array:\n",
    "    \"\"\"\n",
    "    Function to count the number of instances per label\n",
    "    \n",
    "    Args:\n",
    "    -----\n",
    "    - `labelData`: list of labels\n",
    "    - `labelDict`: dictionnary of the labels\n",
    "    - `display`(optional): boolean to activate the display\n",
    "    \n",
    "    Output:\n",
    "    ------\n",
    "    - vector wiht counts\n",
    "    \"\"\"\n",
    "\n",
    "    countVect = np.zeros(len(labelDict)).astype(int)\n",
    "\n",
    "    for i in range(len(labelData)):\n",
    "        label = labelData[i]\n",
    "        countVect[label] += 1\n",
    "\n",
    "    if display:\n",
    "        plt.bar(['Disliked', 'Liked'], countVect)\n",
    "        plt.ylabel('Number of instances')\n",
    "        plt.savefig('bar.png')\n",
    "        plt.show()\n",
    "\n",
    "    return countVect"
   ]
  },
  {
   "cell_type": "code",
   "execution_count": 11,
   "metadata": {},
   "outputs": [
    {
     "name": "stdout",
     "output_type": "stream",
     "text": [
      "{0: 'dislike', 1: 'like'}\n"
     ]
    },
    {
     "data": {
      "image/png": "[encoded data removed]",
      "text/plain": [
       "<Figure size 640x480 with 1 Axes>"
      ]
     },
     "metadata": {},
     "output_type": "display_data"
    },
    {
     "name": "stdout",
     "output_type": "stream",
     "text": [
      "[404 496]\n"
     ]
    }
   ],
   "source": [
    "print(labelDict)\n",
    "nb = getNb(d['Liked'])\n",
    "\n",
    "\n",
    "print(nb)"
   ]
  },
  {
   "cell_type": "markdown",
   "metadata": {},
   "source": [
    "In this case we are happy since the dataset seems to be balanced."
   ]
  },
  {
   "cell_type": "markdown",
   "metadata": {},
   "source": [
    "## Preprocessing step"
   ]
  },
  {
   "cell_type": "markdown",
   "metadata": {},
   "source": [
    "1) contraction (dealing with I'm, I'd, ...)"
   ]
  },
  {
   "cell_type": "markdown",
   "metadata": {},
   "source": [
    "2) uppercase letters -> lowercase letters"
   ]
  },
  {
   "cell_type": "markdown",
   "metadata": {},
   "source": [
    "3) get rid of stopwords"
   ]
  },
  {
   "cell_type": "markdown",
   "metadata": {},
   "source": [
    "4) remove punctiation, numbers"
   ]
  },
  {
   "cell_type": "markdown",
   "metadata": {},
   "source": [
    "5) dealing with spaces"
   ]
  },
  {
   "cell_type": "code",
   "execution_count": 12,
   "metadata": {},
   "outputs": [
    {
     "name": "stderr",
     "output_type": "stream",
     "text": [
      "[nltk_data] Downloading package stopwords to\n",
      "[nltk_data]     /home/jpierre/nltk_data...\n",
      "[nltk_data]   Package stopwords is already up-to-date!\n"
     ]
    }
   ],
   "source": [
    "from nltk.corpus import stopwords\n",
    "nltk.download('stopwords')\n",
    "stopWords = set(stopwords.words('english'))\n",
    "import contractions\n",
    "\n",
    "stopWords.remove('not')\n",
    "stopWords.remove('i')\n",
    "stopWords.remove('you')\n",
    "stopWords.remove('he')\n",
    "stopWords.remove('she')\n",
    "stopWords.remove('it')\n",
    "stopWords.remove('we')\n",
    "stopWords.remove('they')\n"
   ]
  },
  {
   "cell_type": "code",
   "execution_count": 13,
   "metadata": {},
   "outputs": [],
   "source": [
    "def preprocess(sentences:list[str], stopWords)->list:\n",
    "    \"\"\"\n",
    "    Function to apply all the preprocessing\n",
    "    \n",
    "    Args:\n",
    "    -----\n",
    "    - `sentences`: list of sentences\n",
    "    - `stopWords`: stopwords to handle\n",
    "    \n",
    "    Output:\n",
    "    -------\n",
    "    the list with the preprocessed sentences\n",
    "    \"\"\"\n",
    "    \n",
    "    res = []\n",
    "    for sentence in tqdm(sentences):\n",
    "        \n",
    "        ## 1\n",
    "        sentence = contractions.fix(sentence)\n",
    "        \n",
    "        ## 2\n",
    "        sentence = sentence.lower()\n",
    "        \n",
    "        ## 3\n",
    "        pattern = re.compile(r'\\b(' + r'|'.join(stopWords) + r')\\b\\s*')\n",
    "        sentence = pattern.sub('', sentence)\n",
    "\n",
    "        ## 4\n",
    "        sentence = re.sub('[^a-zA-Z]', ' ', sentence)\n",
    "\n",
    "        ## 5\n",
    "        sentence = re.sub(r'\\s+', ' ', sentence)\n",
    "        sentence = sentence.strip()\n",
    "\n",
    "        res.append(sentence)\n",
    "\n",
    "    return res\n"
   ]
  },
  {
   "cell_type": "code",
   "execution_count": 14,
   "metadata": {},
   "outputs": [
    {
     "name": "stdout",
     "output_type": "stream",
     "text": [
      "['Wow... Loved this place.' 'Crust is not good.'\n",
      " 'Not tasty and the texture was just nasty.'\n",
      " 'Stopped by during the late May bank holiday off Rick Steve recommendation and loved it.'\n",
      " 'The selection on the menu was great and so were the prices.'\n",
      " 'Now I am getting angry and I want my damn pho.'\n",
      " \"Honestly it didn't taste THAT fresh.)\"\n",
      " 'The potatoes were like rubber and you could tell they had been made up ahead of time being kept under a warmer.'\n",
      " 'The fries were great too.' 'A great touch.' 'Service was very prompt.'\n",
      " 'Would not go back.'\n",
      " 'The cashier had no care what so ever on what I had to say it still ended up being wayyy overpriced.'\n",
      " 'I tried the Cape Cod ravioli, chicken, with cranberry...mmmm!'\n",
      " 'I was disgusted because I was pretty sure that was human hair.']\n"
     ]
    }
   ],
   "source": [
    "print(df[:15])"
   ]
  },
  {
   "cell_type": "code",
   "execution_count": 15,
   "metadata": {},
   "outputs": [
    {
     "name": "stderr",
     "output_type": "stream",
     "text": [
      "100%|██████████| 900/900 [00:00<00:00, 26155.01it/s]\n"
     ]
    }
   ],
   "source": [
    "df = preprocess(df, stopWords)"
   ]
  },
  {
   "cell_type": "code",
   "execution_count": 16,
   "metadata": {},
   "outputs": [
    {
     "name": "stdout",
     "output_type": "stream",
     "text": [
      "['wow loved place', 'crust not good', 'not tasty texture nasty', 'stopped late may bank holiday rick steve recommendation loved it', 'selection menu great prices', 'i getting angry i want damn pho', 'honestly it not taste fresh', 'potatoes like rubber you could tell they made ahead time kept warmer', 'fries great', 'great touch', 'service prompt', 'would not go back', 'cashier care ever i say it still ended wayyy overpriced', 'i tried cape cod ravioli chicken cranberry mmmm', 'i disgusted i pretty sure human hair']\n"
     ]
    }
   ],
   "source": [
    "print(df[:15])"
   ]
  },
  {
   "cell_type": "markdown",
   "metadata": {},
   "source": [
    "### We can now decompose the sentences by spliting the spaces"
   ]
  },
  {
   "cell_type": "code",
   "execution_count": 17,
   "metadata": {},
   "outputs": [
    {
     "name": "stderr",
     "output_type": "stream",
     "text": [
      "100%|██████████| 900/900 [00:00<00:00, 605918.72it/s]\n"
     ]
    }
   ],
   "source": [
    "def decompose(df:list[str])->list:\n",
    "    \"\"\" \n",
    "    Function to decompose the sentences according to the spaces\n",
    "    \n",
    "    Args:\n",
    "    -----\n",
    "    - `df`: list of preprocessed sentences\n",
    "    \n",
    "    Output:\n",
    "    -------\n",
    "    list with the sentences decomposed according to spaces\n",
    "    \"\"\"\n",
    "    \n",
    "    for i in tqdm(range(len(df))):\n",
    "        df[i] = df[i].split(' ')\n",
    "    return df\n",
    "\n",
    "df = decompose(df)\n"
   ]
  },
  {
   "cell_type": "code",
   "execution_count": 18,
   "metadata": {},
   "outputs": [
    {
     "name": "stdout",
     "output_type": "stream",
     "text": [
      "21\n"
     ]
    }
   ],
   "source": [
    "print(max([len(df[i]) for i in range(len(df))]))"
   ]
  },
  {
   "cell_type": "code",
   "execution_count": 19,
   "metadata": {},
   "outputs": [],
   "source": [
    "# can update LMAX\n",
    "\n",
    "LMAX = 30"
   ]
  },
  {
   "cell_type": "markdown",
   "metadata": {},
   "source": [
    "## Word embeddings"
   ]
  },
  {
   "cell_type": "markdown",
   "metadata": {},
   "source": [
    "### Word2Vec"
   ]
  },
  {
   "cell_type": "code",
   "execution_count": 35,
   "metadata": {},
   "outputs": [],
   "source": [
    "EMB_SIZE =300   # size of the embeddings"
   ]
  },
  {
   "cell_type": "code",
   "execution_count": 41,
   "metadata": {},
   "outputs": [],
   "source": [
    "import gensim.downloader as api\n",
    "\n",
    "word2vecModel = api.load('word2vec-google-news-300')"
   ]
  },
  {
   "cell_type": "code",
   "execution_count": 44,
   "metadata": {},
   "outputs": [],
   "source": [
    "def getW2VTextEmb(words:list[str], model = word2vecModel)->torch.tensor:\n",
    "    \"\"\"\n",
    "    Function to apply the word2Vec on a sentence\n",
    "    \n",
    "    Args:\n",
    "    -----\n",
    "    - `words`: list of words\n",
    "    - `model`: model to use\n",
    "    \n",
    "    Output:\n",
    "    -------\n",
    "    tensor with the embeddings\n",
    "    \"\"\"\n",
    "    defaultVector = np.ones(EMB_SIZE)\n",
    "    \n",
    "    res = []\n",
    "    for word in words:\n",
    "        try:\n",
    "            res.append(torch.from_numpy(model[word]))\n",
    "        except:\n",
    "            res.append(torch.from_numpy(defaultVector))\n",
    "        \n",
    "    return torch.stack(res)\n",
    "\n",
    "def sentences2W2VEmbs(sentences:list[str])->torch.tensor:\n",
    "    \"\"\"\n",
    "    Function to apply the word2Vec on sentences\n",
    "    \n",
    "    Args:\n",
    "    -----\n",
    "    - `sentence`: sentences on which to apply the embeddings\n",
    "\n",
    "    \n",
    "    Output:\n",
    "    -------\n",
    "    tensor with the embeddings\n",
    "    \"\"\"\n",
    "    matrix = torch.zeros((len(sentences), LMAX, EMB_SIZE))\n",
    "    \n",
    "    for i in range(len(sentences)):\n",
    "        sentence = sentences[i]\n",
    "        \n",
    "        embs = getW2VTextEmb(sentence)  # [l, embs]\n",
    "        l = embs.shape[0]\n",
    "        matrix[i, :l, :] = embs\n",
    "        \n",
    "    return matrix\n",
    "\n",
    "def simpleSentences2W2VEmbs(sentence)->torch.tensor:\n",
    "    \"\"\"\n",
    "    Function to apply the word2Vec on sentences\n",
    "    \n",
    "    Args:\n",
    "    -----\n",
    "    - `sentence`: sentence on which to apply the embeddings\n",
    "    \n",
    "    Output:\n",
    "    -------\n",
    "    tensor with the embeddings\n",
    "    \"\"\"\n",
    "    matrix = torch.zeros( LMAX, EMB_SIZE)\n",
    "    \n",
    "    embs = getW2VTextEmb(sentence)  # [l, embs]\n",
    "    l = embs.shape[0]\n",
    "    matrix[:l, :] = embs\n",
    "        \n",
    "    return matrix"
   ]
  },
  {
   "cell_type": "code",
   "execution_count": 45,
   "metadata": {},
   "outputs": [
    {
     "name": "stdout",
     "output_type": "stream",
     "text": [
      "torch.Size([300])\n"
     ]
    }
   ],
   "source": [
    "print(sentences2W2VEmbs(df)[2][7].shape)\n",
    "\n",
    "# some errors in the text that had to be handled for it to work (before setting a default vector)\n",
    "# honelty - > honetly\n",
    "# ravoli ->ravioli\n",
    "# burritos -> dish\n",
    "# place \"excalibur\" -> city \n",
    "# spelling mistakes == > beateous - > beauteous\n",
    "# Bussell Sprouts =>Brussells Sprouts\n",
    "# veggitarian --> vegetarian\n",
    "# andddd\n",
    "# name of the place \"Steiners\" --> this place\n",
    "# gooodd\n",
    "# smashburger"
   ]
  },
  {
   "cell_type": "markdown",
   "metadata": {},
   "source": [
    "### GloVe"
   ]
  },
  {
   "cell_type": "code",
   "execution_count": 20,
   "metadata": {},
   "outputs": [],
   "source": [
    "EMB_SIZE =300      # size of the embeddings"
   ]
  },
  {
   "cell_type": "code",
   "execution_count": 21,
   "metadata": {},
   "outputs": [],
   "source": [
    "from torchtext.vocab import GloVe\n",
    "\n",
    "glove = GloVe(name='6B', dim=EMB_SIZE, unk_init = torch.Tensor.normal_)"
   ]
  },
  {
   "cell_type": "code",
   "execution_count": 22,
   "metadata": {},
   "outputs": [],
   "source": [
    "def getGloveTextEmb(words, model = glove):\n",
    "    \"\"\"\n",
    "    Function to apply the word2Vec on a sentence\n",
    "    \n",
    "    Args:\n",
    "    -----\n",
    "    - `words`: list of words\n",
    "    - `model`: model to use\n",
    "    \n",
    "    Output:\n",
    "    -------\n",
    "    tensor with the embeddings\n",
    "    \"\"\"\n",
    "\n",
    "    res = [model[word] for word in words]\n",
    "    \n",
    "    return torch.stack(res)\n",
    "\n",
    "def sentences2GloveEmbs(sentences):\n",
    "    \"\"\"\n",
    "    Function to apply the Glove on a sentence\n",
    "    \n",
    "    Args:\n",
    "    -----\n",
    "    - `words`: list of words\n",
    "    - `model`: model to use\n",
    "    \n",
    "    Output:\n",
    "    -------\n",
    "    tensor with the embeddings\n",
    "    \"\"\"\n",
    "    matrix = torch.zeros((len(sentences), LMAX, EMB_SIZE))\n",
    "    \n",
    "    for i in range(len(sentences)):\n",
    "        sentence = sentences[i]\n",
    "        \n",
    "        embs = getGloveTextEmb(sentence)  # [l, embs]\n",
    "        l = embs.shape[0]\n",
    "        matrix[i, :l, :] = embs\n",
    "        \n",
    "    return matrix\n",
    "\n",
    "def simpleSentences2GloveEmbs(sentence):\n",
    "    \"\"\"\n",
    "    Function to apply the Glove on sentences\n",
    "    \n",
    "    Args:\n",
    "    -----\n",
    "    - `sentence`: sentence on which to apply the embeddings\n",
    "    \n",
    "    Output:\n",
    "    -------\n",
    "    tensor with the embeddings\n",
    "    \"\"\"\n",
    "    matrix = torch.zeros( LMAX, EMB_SIZE)\n",
    "    \n",
    "    embs = getGloveTextEmb(sentence)  # [l, embs]\n",
    "    l = embs.shape[0]\n",
    "    matrix[:l, :] = embs\n",
    "        \n",
    "    return matrix"
   ]
  },
  {
   "cell_type": "markdown",
   "metadata": {},
   "source": [
    "### fasttext"
   ]
  },
  {
   "cell_type": "code",
   "execution_count": 58,
   "metadata": {},
   "outputs": [],
   "source": [
    "EMB_SIZE = 300        # size of the embeddings"
   ]
  },
  {
   "cell_type": "code",
   "execution_count": 59,
   "metadata": {},
   "outputs": [],
   "source": [
    "import fasttext\n",
    "from torchtext.vocab import FastText\n",
    "\n",
    "\n",
    "fastTextEng = FastText(language='en', unk_init = torch.Tensor.normal_)\n",
    "            "
   ]
  },
  {
   "cell_type": "code",
   "execution_count": 60,
   "metadata": {},
   "outputs": [],
   "source": [
    "def getFastTextEmb(words, model = fastTextEng):\n",
    "    \"\"\"\n",
    "    Function to apply the word2Vec on a sentence\n",
    "    \n",
    "    Args:\n",
    "    -----\n",
    "    - `words`: list of words\n",
    "    - `model`: model to use\n",
    "    \n",
    "    Output:\n",
    "    -------\n",
    "    tensor with the embeddings\n",
    "    \"\"\"\n",
    "\n",
    "    res = [model[word] for word in words]\n",
    "    \n",
    "    return torch.stack(res)\n",
    "\n",
    "def sentences2FastTextEmbs(sentences):\n",
    "    \"\"\"\n",
    "    Function to apply the FastText on a sentence\n",
    "    \n",
    "    Args:\n",
    "    -----\n",
    "    - `words`: list of words\n",
    "    - `model`: model to use\n",
    "    \n",
    "    Output:\n",
    "    -------\n",
    "    tensor with the embeddings\n",
    "    \"\"\"\n",
    "    matrix = torch.zeros((len(sentences), LMAX, EMB_SIZE))\n",
    "    \n",
    "    for i in range(len(sentences)):\n",
    "        sentence = sentences[i]\n",
    "        \n",
    "        embs = getFastTextEmb(sentence)  # [l, embs]\n",
    "        l = embs.shape[0]\n",
    "        matrix[i, :l, :] = embs\n",
    "        \n",
    "    return matrix\n",
    "\n",
    "def simpleSentences2FastTextEmbs(sentence):\n",
    "    \"\"\"\n",
    "    Function to apply the FastText on sentences\n",
    "    \n",
    "    Args:\n",
    "    -----\n",
    "    - `sentence`: sentence on which to apply the embeddings\n",
    "    \n",
    "    Output:\n",
    "    -------\n",
    "    tensor with the embeddings\n",
    "    \"\"\"\n",
    "    matrix = torch.zeros( LMAX, EMB_SIZE)\n",
    "    \n",
    "    embs = getFastTextEmb(sentence)  # [l, embs]\n",
    "    l = embs.shape[0]\n",
    "    matrix[:l, :] = embs\n",
    "        \n",
    "    return matrix"
   ]
  },
  {
   "cell_type": "markdown",
   "metadata": {},
   "source": [
    "### Global function"
   ]
  },
  {
   "cell_type": "code",
   "execution_count": 46,
   "metadata": {},
   "outputs": [],
   "source": [
    "EMBTYPE = 'GloVe'"
   ]
  },
  {
   "cell_type": "code",
   "execution_count": 47,
   "metadata": {},
   "outputs": [],
   "source": [
    "def getEmbedding(sentences, method = EMBTYPE):\n",
    "\n",
    "    if method == 'Word2Vec':\n",
    "        embs = simpleSentences2W2VEmbs(sentences)\n",
    "    \n",
    "    if method == 'GloVe':\n",
    "        embs = simpleSentences2GloveEmbs(sentences)\n",
    "\n",
    "    if method == 'fasttext':\n",
    "        #embs = sentences2FastTextEmbs(sentences)\n",
    "        embs = simpleSentences2FastTextEmbs(sentences)\n",
    "    return embs"
   ]
  },
  {
   "cell_type": "markdown",
   "metadata": {},
   "source": [
    "## Model"
   ]
  },
  {
   "cell_type": "markdown",
   "metadata": {},
   "source": [
    "1) simple GRU model"
   ]
  },
  {
   "cell_type": "code",
   "execution_count": 48,
   "metadata": {},
   "outputs": [],
   "source": [
    "class MLP2(nn.Module):\n",
    "    def __init__(self, inputShape:int, outputShape:int, dropout:float = 0.3):\n",
    "        super(MLP2, self).__init__()\n",
    "\n",
    "        self.dropout = dropout\n",
    "        self.inputShape = inputShape\n",
    "        self.outputShape = outputShape\n",
    "\n",
    "        self.delta = (inputShape - outputShape) // 3\n",
    "        dim1 = inputShape - self.delta\n",
    "        dim2 = dim1 - self.delta\n",
    "\n",
    "        self.mlp = nn.Sequential(\n",
    "            nn.Linear(inputShape, dim1),\n",
    "            nn.ReLU(),\n",
    "            nn.Dropout(p=dropout),\n",
    "            nn.Linear(dim1, dim2),\n",
    "            nn.ReLU(),\n",
    "            nn.Dropout(p=dropout),\n",
    "            nn.Linear(dim2, outputShape),\n",
    "        )\n",
    "    \n",
    "    def forward(self, x):\n",
    "        x = self.mlp(x)\n",
    "        return x"
   ]
  },
  {
   "cell_type": "code",
   "execution_count": 49,
   "metadata": {},
   "outputs": [],
   "source": [
    "class SimpleGRUClassifier(nn.Module):\n",
    "    def __init__(self, inputSize, hiddenSize, stateSize, outputSize):\n",
    "        super(SimpleGRUClassifier, self).__init__()\n",
    "\n",
    "        self.InMlp = MLP2(inputSize, hiddenSize)       # to bring the embedding to a same dimension\n",
    "\n",
    "        self.gru = nn.GRU(input_size=hiddenSize, \n",
    "                          hidden_size=stateSize, \n",
    "                          num_layers=1, \n",
    "                          bidirectional=True, \n",
    "                          batch_first=True)\n",
    "\n",
    "        self.outMlp = MLP2(stateSize*2*LMAX, outputSize)  # to bring everything outside of the NN\n",
    "\n",
    "        #self.sigmoid = nn.Sigmoid()\n",
    "\n",
    "    def forward(self, x):\n",
    "        \n",
    "        \n",
    "        x = self.InMlp(x)\n",
    "        \n",
    "\n",
    "        output, _ = self.gru(x)   # [N, L, 2*hiddenSize]\n",
    "        \n",
    "\n",
    "        output = self.outMlp(output.reshape(output.shape[0], -1))\n",
    "                \n",
    "        return output"
   ]
  },
  {
   "cell_type": "code",
   "execution_count": 50,
   "metadata": {},
   "outputs": [],
   "source": [
    "class SelfAttention(nn.Module):\n",
    "    def __init__(self, inputShape:int, outputShape:int):\n",
    "        \"\"\" \n",
    "        Args:\n",
    "        -----\n",
    "        - `inputShape`: shape of the input\n",
    "        - `outputShape`: shape of the output (second shape of the value matrix)\n",
    "        \"\"\"\n",
    "        \n",
    "        super(SelfAttention, self).__init__()\n",
    "        \n",
    "        self.inputShape = inputShape\n",
    "        self.outputShape = outputShape\n",
    "        \n",
    "        # matrices for the Q, K, V\n",
    "        self.W_q = nn.Linear(inputShape, inputShape)\n",
    "        self.W_k = nn.Linear(inputShape, inputShape)\n",
    "        self.W_v = nn.Linear(inputShape, outputShape)\n",
    "        \n",
    "    def forward(self, x):\n",
    "        \"\"\" \n",
    "        Args:\n",
    "        -----\n",
    "        - `x`: tensor [N, L, inputShape]\n",
    "        \"\"\"\n",
    "        # Obtainng Q, K, V\n",
    "        Q = self.W_q(x)   # [N, L, inputShape]\n",
    "        K = self.W_k(x)   # [N, L, inputShape]\n",
    "        V = self.W_v(x)   # [N, L, outputShape]\n",
    "        \n",
    "        scores = torch.bmm(Q, K.transpose(-2,-1)) / torch.sqrt(torch.tensor(self.inputShape).float())      # [N, L, L]\n",
    "        \n",
    "        weights = F.softmax(scores, dim=-1)       # [N, L, L]\n",
    "        \n",
    "        out = torch.bmm(weights, V)        # [N, L, outputShape]\n",
    "        \n",
    "        return out, weights\n",
    "    \n",
    "\n",
    "\n",
    "class AttentionGRUClassifier(nn.Module):\n",
    "    def __init__(self, inputSize, hiddenSize, stateSize, outputSize):\n",
    "        super(AttentionGRUClassifier, self).__init__()\n",
    "\n",
    "        self.InMlp = MLP2(inputSize, hiddenSize)       # to bring the embedding to some given dimension\n",
    "\n",
    "        self.gru = nn.GRU(input_size=hiddenSize, \n",
    "                          hidden_size=stateSize, \n",
    "                          num_layers=1, \n",
    "                          bidirectional=True, \n",
    "                          batch_first=True)\n",
    "        \n",
    "        self.attentionLayer = SelfAttention(2*stateSize, 2*stateSize)  #*2 because of the bidirectionnal GRU\n",
    "\n",
    "        self.outMlp = MLP2(stateSize*2*LMAX, outputSize)  # to bring everything outside of the NN\n",
    "\n",
    "    def forward(self, x):\n",
    "                \n",
    "        x = self.InMlp(x)\n",
    "\n",
    "        output, _ = self.gru(x)   # [N, L, 2*hiddenSize]\n",
    "        \n",
    "        \n",
    "        output, weights = self.attentionLayer(output)\n",
    "\n",
    "        output = self.outMlp(output.reshape(output.shape[0], -1))\n",
    "                \n",
    "        return output, weights"
   ]
  },
  {
   "cell_type": "markdown",
   "metadata": {},
   "source": [
    "## Dataset Class"
   ]
  },
  {
   "cell_type": "code",
   "execution_count": 28,
   "metadata": {},
   "outputs": [],
   "source": [
    "class textDatasets(Dataset):\n",
    "    \"\"\"\n",
    "    Class to generate data tuples for learning\n",
    "    \"\"\"\n",
    "\n",
    "    def __init__(self, langList:list[list[str]], y:list[int]):\n",
    "        \"\"\" \n",
    "        Args:\n",
    "        -----\n",
    "        - `langList`: list of the sentences\n",
    "        - `y`: list of labels\n",
    "        \"\"\"\n",
    "\n",
    "        self.langList = langList\n",
    "        self.y = y\n",
    "        self.length = len(langList)\n",
    "\n",
    "\n",
    "    def __len__(self):\n",
    "        return self.length\n",
    "    \n",
    "    def __getitem__(self, idx):\n",
    "\n",
    "        \n",
    "        s = getEmbedding(self.langList[idx])\n",
    "        y = self.y[idx]\n",
    "        \n",
    "        return s, y"
   ]
  },
  {
   "cell_type": "code",
   "execution_count": 29,
   "metadata": {},
   "outputs": [],
   "source": [
    "L = int(0.7*len(df))\n",
    "dfTrain = df[:L]\n",
    "dfTest = df[L:]\n",
    "\n",
    "y = d['Liked'].values\n",
    "yTrain = y[:L]\n",
    "yTest = y[L:]\n",
    "\n",
    "nbBatch = 50\n",
    "\n",
    "datasetLearning = textDatasets(langList=dfTrain, y = yTrain)\n",
    "datasetTest = textDatasets(langList=dfTest, y = yTest)\n",
    "\n",
    "loaderLearning = data.DataLoader(datasetLearning, batch_size = nbBatch, shuffle= True, num_workers = 1)\n",
    "loaderTest = data.DataLoader(datasetTest, batch_size = nbBatch, shuffle= True, num_workers = 1)\n"
   ]
  },
  {
   "cell_type": "markdown",
   "metadata": {},
   "source": [
    "## Training"
   ]
  },
  {
   "cell_type": "code",
   "execution_count": 30,
   "metadata": {},
   "outputs": [],
   "source": [
    "inputShape = EMB_SIZE\n",
    "hiddenShape = 128\n",
    "hiddenStatesShape = 128\n",
    "outputShape = len(labelDict)\n",
    "\n",
    "if attentionNetworkBool:\n",
    "    NN = AttentionGRUClassifier(inputShape, hiddenShape, hiddenStatesShape, outputShape).to(device)\n",
    "else:\n",
    "    NN = SimpleGRUClassifier(inputShape, hiddenShape, hiddenStatesShape, outputShape).to(device)\n"
   ]
  },
  {
   "cell_type": "code",
   "execution_count": 31,
   "metadata": {},
   "outputs": [],
   "source": [
    "\n",
    "def getAccuracy(out, gtruth):\n",
    "    \"\"\"\n",
    "    Function to get the accuracy\n",
    "    \n",
    "    Args:\n",
    "    -----\n",
    "    - `out`: prediction of the neural network\n",
    "    - `gtruth`: ground truths\n",
    "    \n",
    "    Ouptut:\n",
    "    -------\n",
    "    number of correctly classified instances\n",
    "    \"\"\"\n",
    "    \n",
    "    gtruth = gtruth.reshape(-1)\n",
    "    _, i = out.topk(1, dim=-1)\n",
    "    i = i.reshape(-1)\n",
    "    return torch.sum(i == gtruth)\n"
   ]
  },
  {
   "cell_type": "code",
   "execution_count": 32,
   "metadata": {},
   "outputs": [
    {
     "name": "stderr",
     "output_type": "stream",
     "text": [
      "/home/jpierre/anaconda3/envs/myenvPy/lib/python3.9/site-packages/tqdm/auto.py:21: TqdmWarning: IProgress not found. Please update jupyter and ipywidgets. See https://ipywidgets.readthedocs.io/en/stable/user_install.html\n",
      "  from .autonotebook import tqdm as notebook_tqdm\n"
     ]
    }
   ],
   "source": [
    "nbEpoch=200\n",
    "loaderLearning = loaderLearning\n",
    "loaderValidation = loaderTest\n",
    "loaderTest = loaderTest\n",
    "decay = .00001\n",
    "\n",
    "criterion = nn.CrossEntropyLoss()\n",
    "\n",
    "optimizer = torch.optim.Adam(NN.parameters(), lr=0.005, weight_decay=5e-4)"
   ]
  },
  {
   "cell_type": "code",
   "execution_count": 33,
   "metadata": {},
   "outputs": [
    {
     "name": "stderr",
     "output_type": "stream",
     "text": [
      "Failed to detect the name of this notebook, you can set it manually with the WANDB_NOTEBOOK_NAME environment variable to enable code saving.\n",
      "\u001b[34m\u001b[1mwandb\u001b[0m: Currently logged in as: \u001b[33mjepi1202\u001b[0m (\u001b[33muliege_action_spotting_2022_2023_context\u001b[0m). Use \u001b[1m`wandb login --relogin`\u001b[0m to force relogin\n"
     ]
    },
    {
     "data": {
      "text/html": [
       "wandb version 0.16.1 is available!  To upgrade, please run:\n",
       " $ pip install wandb --upgrade"
      ],
      "text/plain": [
       "<IPython.core.display.HTML object>"
      ]
     },
     "metadata": {},
     "output_type": "display_data"
    },
    {
     "data": {
      "text/html": [
       "Tracking run with wandb version 0.16.0"
      ],
      "text/plain": [
       "<IPython.core.display.HTML object>"
      ]
     },
     "metadata": {},
     "output_type": "display_data"
    },
    {
     "data": {
      "text/html": [
       "Run data is saved locally in <code>/home/jpierre/other/sentiment_analyzis/wandb/run-20231207_223601-3739eu5z</code>"
      ],
      "text/plain": [
       "<IPython.core.display.HTML object>"
      ]
     },
     "metadata": {},
     "output_type": "display_data"
    },
    {
     "data": {
      "text/html": [
       "Syncing run <strong><a href='https://wandb.ai/uliege_action_spotting_2022_2023_context/master_thesis/runs/3739eu5z' target=\"_blank\">sentiment_ana_w2v_attention_simple_data</a></strong> to <a href='https://wandb.ai/uliege_action_spotting_2022_2023_context/master_thesis' target=\"_blank\">Weights & Biases</a> (<a href='https://wandb.me/run' target=\"_blank\">docs</a>)<br/>"
      ],
      "text/plain": [
       "<IPython.core.display.HTML object>"
      ]
     },
     "metadata": {},
     "output_type": "display_data"
    },
    {
     "data": {
      "text/html": [
       " View project at <a href='https://wandb.ai/uliege_action_spotting_2022_2023_context/master_thesis' target=\"_blank\">https://wandb.ai/uliege_action_spotting_2022_2023_context/master_thesis</a>"
      ],
      "text/plain": [
       "<IPython.core.display.HTML object>"
      ]
     },
     "metadata": {},
     "output_type": "display_data"
    },
    {
     "data": {
      "text/html": [
       " View run at <a href='https://wandb.ai/uliege_action_spotting_2022_2023_context/master_thesis/runs/3739eu5z' target=\"_blank\">https://wandb.ai/uliege_action_spotting_2022_2023_context/master_thesis/runs/3739eu5z</a>"
      ],
      "text/plain": [
       "<IPython.core.display.HTML object>"
      ]
     },
     "metadata": {},
     "output_type": "display_data"
    },
    {
     "data": {
      "text/plain": [
       "[]"
      ]
     },
     "execution_count": 33,
     "metadata": {},
     "output_type": "execute_result"
    }
   ],
   "source": [
    "wandb.init(project = 'master_thesis', name = \"sentiment_ana_w2v_attention_simple_data\")\n",
    "wandb.watch(NN, log = 'all', log_freq=500)"
   ]
  },
  {
   "cell_type": "code",
   "execution_count": 34,
   "metadata": {},
   "outputs": [
    {
     "name": "stderr",
     "output_type": "stream",
     "text": [
      "100%|██████████| 13/13 [00:00<00:00, 15.42it/s]\n",
      "100%|██████████| 13/13 [00:00<00:00, 23.23it/s]\n",
      "100%|██████████| 13/13 [00:00<00:00, 22.96it/s]\n",
      "100%|██████████| 13/13 [00:02<00:00,  5.20it/s]\n",
      "100%|██████████| 13/13 [00:00<00:00, 23.07it/s]\n",
      "100%|██████████| 13/13 [00:00<00:00, 23.02it/s]\n",
      "100%|██████████| 13/13 [00:00<00:00, 23.31it/s]\n",
      "100%|██████████| 13/13 [00:02<00:00,  6.10it/s]\n",
      "100%|██████████| 13/13 [00:00<00:00, 22.79it/s]\n",
      "100%|██████████| 13/13 [00:00<00:00, 23.02it/s]\n",
      "100%|██████████| 13/13 [00:00<00:00, 23.24it/s]\n"
     ]
    },
    {
     "ename": "KeyboardInterrupt",
     "evalue": "",
     "output_type": "error",
     "traceback": [
      "\u001b[0;31m---------------------------------------------------------------------------\u001b[0m",
      "\u001b[0;31mKeyboardInterrupt\u001b[0m                         Traceback (most recent call last)",
      "Cell \u001b[0;32mIn[34], line 71\u001b[0m\n\u001b[1;32m     67\u001b[0m             j \u001b[38;5;241m+\u001b[39m\u001b[38;5;241m=\u001b[39m \u001b[38;5;241m1\u001b[39m\n\u001b[1;32m     69\u001b[0m \u001b[38;5;28;01mif\u001b[39;00m \u001b[38;5;18m__name__\u001b[39m \u001b[38;5;241m==\u001b[39m \u001b[38;5;124m\"\u001b[39m\u001b[38;5;124m__main__\u001b[39m\u001b[38;5;124m\"\u001b[39m:\n\u001b[0;32m---> 71\u001b[0m     \u001b[43mtrain\u001b[49m\u001b[43m(\u001b[49m\u001b[43m)\u001b[49m\n",
      "Cell \u001b[0;32mIn[34], line 10\u001b[0m, in \u001b[0;36mtrain\u001b[0;34m()\u001b[0m\n\u001b[1;32m      6\u001b[0m \u001b[38;5;28;01mfor\u001b[39;00m i \u001b[38;5;129;01min\u001b[39;00m \u001b[38;5;28mrange\u001b[39m(nbEpoch):\n\u001b[1;32m      8\u001b[0m     NN\u001b[38;5;241m.\u001b[39mtrain()\n\u001b[0;32m---> 10\u001b[0m     \u001b[38;5;28;01mfor\u001b[39;00m x, y \u001b[38;5;129;01min\u001b[39;00m tqdm(loaderLearning):\n\u001b[1;32m     13\u001b[0m         x \u001b[38;5;241m=\u001b[39m x\u001b[38;5;241m.\u001b[39mto(device)\n\u001b[1;32m     14\u001b[0m         y \u001b[38;5;241m=\u001b[39m y\u001b[38;5;241m.\u001b[39mto(device)\n",
      "File \u001b[0;32m~/anaconda3/envs/myenvPy/lib/python3.9/site-packages/tqdm/std.py:1182\u001b[0m, in \u001b[0;36mtqdm.__iter__\u001b[0;34m(self)\u001b[0m\n\u001b[1;32m   1179\u001b[0m time \u001b[38;5;241m=\u001b[39m \u001b[38;5;28mself\u001b[39m\u001b[38;5;241m.\u001b[39m_time\n\u001b[1;32m   1181\u001b[0m \u001b[38;5;28;01mtry\u001b[39;00m:\n\u001b[0;32m-> 1182\u001b[0m     \u001b[38;5;28;01mfor\u001b[39;00m obj \u001b[38;5;129;01min\u001b[39;00m iterable:\n\u001b[1;32m   1183\u001b[0m         \u001b[38;5;28;01myield\u001b[39;00m obj\n\u001b[1;32m   1184\u001b[0m         \u001b[38;5;66;03m# Update and possibly print the progressbar.\u001b[39;00m\n\u001b[1;32m   1185\u001b[0m         \u001b[38;5;66;03m# Note: does not call self.update(1) for speed optimisation.\u001b[39;00m\n",
      "File \u001b[0;32m~/anaconda3/envs/myenvPy/lib/python3.9/site-packages/torch/utils/data/dataloader.py:630\u001b[0m, in \u001b[0;36m_BaseDataLoaderIter.__next__\u001b[0;34m(self)\u001b[0m\n\u001b[1;32m    627\u001b[0m \u001b[38;5;28;01mif\u001b[39;00m \u001b[38;5;28mself\u001b[39m\u001b[38;5;241m.\u001b[39m_sampler_iter \u001b[38;5;129;01mis\u001b[39;00m \u001b[38;5;28;01mNone\u001b[39;00m:\n\u001b[1;32m    628\u001b[0m     \u001b[38;5;66;03m# TODO(https://github.com/pytorch/pytorch/issues/76750)\u001b[39;00m\n\u001b[1;32m    629\u001b[0m     \u001b[38;5;28mself\u001b[39m\u001b[38;5;241m.\u001b[39m_reset()  \u001b[38;5;66;03m# type: ignore[call-arg]\u001b[39;00m\n\u001b[0;32m--> 630\u001b[0m data \u001b[38;5;241m=\u001b[39m \u001b[38;5;28;43mself\u001b[39;49m\u001b[38;5;241;43m.\u001b[39;49m\u001b[43m_next_data\u001b[49m\u001b[43m(\u001b[49m\u001b[43m)\u001b[49m\n\u001b[1;32m    631\u001b[0m \u001b[38;5;28mself\u001b[39m\u001b[38;5;241m.\u001b[39m_num_yielded \u001b[38;5;241m+\u001b[39m\u001b[38;5;241m=\u001b[39m \u001b[38;5;241m1\u001b[39m\n\u001b[1;32m    632\u001b[0m \u001b[38;5;28;01mif\u001b[39;00m \u001b[38;5;28mself\u001b[39m\u001b[38;5;241m.\u001b[39m_dataset_kind \u001b[38;5;241m==\u001b[39m _DatasetKind\u001b[38;5;241m.\u001b[39mIterable \u001b[38;5;129;01mand\u001b[39;00m \\\n\u001b[1;32m    633\u001b[0m         \u001b[38;5;28mself\u001b[39m\u001b[38;5;241m.\u001b[39m_IterableDataset_len_called \u001b[38;5;129;01mis\u001b[39;00m \u001b[38;5;129;01mnot\u001b[39;00m \u001b[38;5;28;01mNone\u001b[39;00m \u001b[38;5;129;01mand\u001b[39;00m \\\n\u001b[1;32m    634\u001b[0m         \u001b[38;5;28mself\u001b[39m\u001b[38;5;241m.\u001b[39m_num_yielded \u001b[38;5;241m>\u001b[39m \u001b[38;5;28mself\u001b[39m\u001b[38;5;241m.\u001b[39m_IterableDataset_len_called:\n",
      "File \u001b[0;32m~/anaconda3/envs/myenvPy/lib/python3.9/site-packages/torch/utils/data/dataloader.py:1317\u001b[0m, in \u001b[0;36m_MultiProcessingDataLoaderIter._next_data\u001b[0;34m(self)\u001b[0m\n\u001b[1;32m   1314\u001b[0m \u001b[38;5;28;01melse\u001b[39;00m:\n\u001b[1;32m   1315\u001b[0m     \u001b[38;5;66;03m# no valid `self._rcvd_idx` is found (i.e., didn't break)\u001b[39;00m\n\u001b[1;32m   1316\u001b[0m     \u001b[38;5;28;01mif\u001b[39;00m \u001b[38;5;129;01mnot\u001b[39;00m \u001b[38;5;28mself\u001b[39m\u001b[38;5;241m.\u001b[39m_persistent_workers:\n\u001b[0;32m-> 1317\u001b[0m         \u001b[38;5;28;43mself\u001b[39;49m\u001b[38;5;241;43m.\u001b[39;49m\u001b[43m_shutdown_workers\u001b[49m\u001b[43m(\u001b[49m\u001b[43m)\u001b[49m\n\u001b[1;32m   1318\u001b[0m     \u001b[38;5;28;01mraise\u001b[39;00m \u001b[38;5;167;01mStopIteration\u001b[39;00m\n\u001b[1;32m   1320\u001b[0m \u001b[38;5;66;03m# Now `self._rcvd_idx` is the batch index we want to fetch\u001b[39;00m\n\u001b[1;32m   1321\u001b[0m \n\u001b[1;32m   1322\u001b[0m \u001b[38;5;66;03m# Check if the next sample has already been generated\u001b[39;00m\n",
      "File \u001b[0;32m~/anaconda3/envs/myenvPy/lib/python3.9/site-packages/torch/utils/data/dataloader.py:1442\u001b[0m, in \u001b[0;36m_MultiProcessingDataLoaderIter._shutdown_workers\u001b[0;34m(self)\u001b[0m\n\u001b[1;32m   1437\u001b[0m         \u001b[38;5;28mself\u001b[39m\u001b[38;5;241m.\u001b[39m_mark_worker_as_unavailable(worker_id, shutdown\u001b[38;5;241m=\u001b[39m\u001b[38;5;28;01mTrue\u001b[39;00m)\n\u001b[1;32m   1438\u001b[0m \u001b[38;5;28;01mfor\u001b[39;00m w \u001b[38;5;129;01min\u001b[39;00m \u001b[38;5;28mself\u001b[39m\u001b[38;5;241m.\u001b[39m_workers:\n\u001b[1;32m   1439\u001b[0m     \u001b[38;5;66;03m# We should be able to join here, but in case anything went\u001b[39;00m\n\u001b[1;32m   1440\u001b[0m     \u001b[38;5;66;03m# wrong, we set a timeout and if the workers fail to join,\u001b[39;00m\n\u001b[1;32m   1441\u001b[0m     \u001b[38;5;66;03m# they are killed in the `finally` block.\u001b[39;00m\n\u001b[0;32m-> 1442\u001b[0m     \u001b[43mw\u001b[49m\u001b[38;5;241;43m.\u001b[39;49m\u001b[43mjoin\u001b[49m\u001b[43m(\u001b[49m\u001b[43mtimeout\u001b[49m\u001b[38;5;241;43m=\u001b[39;49m\u001b[43m_utils\u001b[49m\u001b[38;5;241;43m.\u001b[39;49m\u001b[43mMP_STATUS_CHECK_INTERVAL\u001b[49m\u001b[43m)\u001b[49m\n\u001b[1;32m   1443\u001b[0m \u001b[38;5;28;01mfor\u001b[39;00m q \u001b[38;5;129;01min\u001b[39;00m \u001b[38;5;28mself\u001b[39m\u001b[38;5;241m.\u001b[39m_index_queues:\n\u001b[1;32m   1444\u001b[0m     q\u001b[38;5;241m.\u001b[39mcancel_join_thread()\n",
      "File \u001b[0;32m~/anaconda3/envs/myenvPy/lib/python3.9/multiprocessing/process.py:149\u001b[0m, in \u001b[0;36mBaseProcess.join\u001b[0;34m(self, timeout)\u001b[0m\n\u001b[1;32m    147\u001b[0m \u001b[38;5;28;01massert\u001b[39;00m \u001b[38;5;28mself\u001b[39m\u001b[38;5;241m.\u001b[39m_parent_pid \u001b[38;5;241m==\u001b[39m os\u001b[38;5;241m.\u001b[39mgetpid(), \u001b[38;5;124m'\u001b[39m\u001b[38;5;124mcan only join a child process\u001b[39m\u001b[38;5;124m'\u001b[39m\n\u001b[1;32m    148\u001b[0m \u001b[38;5;28;01massert\u001b[39;00m \u001b[38;5;28mself\u001b[39m\u001b[38;5;241m.\u001b[39m_popen \u001b[38;5;129;01mis\u001b[39;00m \u001b[38;5;129;01mnot\u001b[39;00m \u001b[38;5;28;01mNone\u001b[39;00m, \u001b[38;5;124m'\u001b[39m\u001b[38;5;124mcan only join a started process\u001b[39m\u001b[38;5;124m'\u001b[39m\n\u001b[0;32m--> 149\u001b[0m res \u001b[38;5;241m=\u001b[39m \u001b[38;5;28;43mself\u001b[39;49m\u001b[38;5;241;43m.\u001b[39;49m\u001b[43m_popen\u001b[49m\u001b[38;5;241;43m.\u001b[39;49m\u001b[43mwait\u001b[49m\u001b[43m(\u001b[49m\u001b[43mtimeout\u001b[49m\u001b[43m)\u001b[49m\n\u001b[1;32m    150\u001b[0m \u001b[38;5;28;01mif\u001b[39;00m res \u001b[38;5;129;01mis\u001b[39;00m \u001b[38;5;129;01mnot\u001b[39;00m \u001b[38;5;28;01mNone\u001b[39;00m:\n\u001b[1;32m    151\u001b[0m     _children\u001b[38;5;241m.\u001b[39mdiscard(\u001b[38;5;28mself\u001b[39m)\n",
      "File \u001b[0;32m~/anaconda3/envs/myenvPy/lib/python3.9/multiprocessing/popen_fork.py:40\u001b[0m, in \u001b[0;36mPopen.wait\u001b[0;34m(self, timeout)\u001b[0m\n\u001b[1;32m     38\u001b[0m \u001b[38;5;28;01mif\u001b[39;00m timeout \u001b[38;5;129;01mis\u001b[39;00m \u001b[38;5;129;01mnot\u001b[39;00m \u001b[38;5;28;01mNone\u001b[39;00m:\n\u001b[1;32m     39\u001b[0m     \u001b[38;5;28;01mfrom\u001b[39;00m \u001b[38;5;21;01mmultiprocessing\u001b[39;00m\u001b[38;5;21;01m.\u001b[39;00m\u001b[38;5;21;01mconnection\u001b[39;00m \u001b[38;5;28;01mimport\u001b[39;00m wait\n\u001b[0;32m---> 40\u001b[0m     \u001b[38;5;28;01mif\u001b[39;00m \u001b[38;5;129;01mnot\u001b[39;00m \u001b[43mwait\u001b[49m\u001b[43m(\u001b[49m\u001b[43m[\u001b[49m\u001b[38;5;28;43mself\u001b[39;49m\u001b[38;5;241;43m.\u001b[39;49m\u001b[43msentinel\u001b[49m\u001b[43m]\u001b[49m\u001b[43m,\u001b[49m\u001b[43m \u001b[49m\u001b[43mtimeout\u001b[49m\u001b[43m)\u001b[49m:\n\u001b[1;32m     41\u001b[0m         \u001b[38;5;28;01mreturn\u001b[39;00m \u001b[38;5;28;01mNone\u001b[39;00m\n\u001b[1;32m     42\u001b[0m \u001b[38;5;66;03m# This shouldn't block if wait() returned successfully.\u001b[39;00m\n",
      "File \u001b[0;32m~/anaconda3/envs/myenvPy/lib/python3.9/multiprocessing/connection.py:931\u001b[0m, in \u001b[0;36mwait\u001b[0;34m(object_list, timeout)\u001b[0m\n\u001b[1;32m    928\u001b[0m     deadline \u001b[38;5;241m=\u001b[39m time\u001b[38;5;241m.\u001b[39mmonotonic() \u001b[38;5;241m+\u001b[39m timeout\n\u001b[1;32m    930\u001b[0m \u001b[38;5;28;01mwhile\u001b[39;00m \u001b[38;5;28;01mTrue\u001b[39;00m:\n\u001b[0;32m--> 931\u001b[0m     ready \u001b[38;5;241m=\u001b[39m \u001b[43mselector\u001b[49m\u001b[38;5;241;43m.\u001b[39;49m\u001b[43mselect\u001b[49m\u001b[43m(\u001b[49m\u001b[43mtimeout\u001b[49m\u001b[43m)\u001b[49m\n\u001b[1;32m    932\u001b[0m     \u001b[38;5;28;01mif\u001b[39;00m ready:\n\u001b[1;32m    933\u001b[0m         \u001b[38;5;28;01mreturn\u001b[39;00m [key\u001b[38;5;241m.\u001b[39mfileobj \u001b[38;5;28;01mfor\u001b[39;00m (key, events) \u001b[38;5;129;01min\u001b[39;00m ready]\n",
      "File \u001b[0;32m~/anaconda3/envs/myenvPy/lib/python3.9/selectors.py:416\u001b[0m, in \u001b[0;36m_PollLikeSelector.select\u001b[0;34m(self, timeout)\u001b[0m\n\u001b[1;32m    414\u001b[0m ready \u001b[38;5;241m=\u001b[39m []\n\u001b[1;32m    415\u001b[0m \u001b[38;5;28;01mtry\u001b[39;00m:\n\u001b[0;32m--> 416\u001b[0m     fd_event_list \u001b[38;5;241m=\u001b[39m \u001b[38;5;28;43mself\u001b[39;49m\u001b[38;5;241;43m.\u001b[39;49m\u001b[43m_selector\u001b[49m\u001b[38;5;241;43m.\u001b[39;49m\u001b[43mpoll\u001b[49m\u001b[43m(\u001b[49m\u001b[43mtimeout\u001b[49m\u001b[43m)\u001b[49m\n\u001b[1;32m    417\u001b[0m \u001b[38;5;28;01mexcept\u001b[39;00m \u001b[38;5;167;01mInterruptedError\u001b[39;00m:\n\u001b[1;32m    418\u001b[0m     \u001b[38;5;28;01mreturn\u001b[39;00m ready\n",
      "\u001b[0;31mKeyboardInterrupt\u001b[0m: "
     ]
    }
   ],
   "source": [
    "def train():\n",
    "\n",
    "    j = 0\n",
    "    max_valid = float('-inf')\n",
    "\n",
    "    for i in range(nbEpoch):\n",
    "\n",
    "        NN.train()\n",
    "\n",
    "        for x, y in tqdm(loaderLearning):\n",
    "            \n",
    "           \n",
    "            x = x.to(device)\n",
    "            y = y.to(device)\n",
    "\n",
    "            if attentionNetworkBool:\n",
    "                out, _ =  NN(x)\n",
    "            else:\n",
    "                out =  NN(x)\n",
    "\n",
    "            loss = criterion(out, y)\n",
    "\n",
    "            optimizer.zero_grad()\n",
    "            loss.backward()\n",
    "            optimizer.step()\n",
    "\n",
    "            if ((j+1) % 1) == 0:\n",
    "                \n",
    "                max_param_value = max(torch.max(torch.abs(param)).item() for param in NN.parameters())\n",
    "\n",
    "                max_grad_value = max(torch.max(torch.abs(param.grad)).item() for param in NN.parameters() if param.grad is not None)\n",
    "                \n",
    "                \n",
    "                wandb.log({'epoch': i, 'Training Loss': loss, 'max param': max_param_value, 'max grad': max_grad_value})\n",
    "\n",
    "\n",
    "            if ((j+1) % 50) == 0:\n",
    "                NN.eval()\n",
    "                \n",
    "                with torch.no_grad():\n",
    "                    \n",
    "                    # training accuracy\n",
    "                    trainAcc = 0\n",
    "                    for x, y in loaderLearning:\n",
    "           \n",
    "                        x = x.to(device)\n",
    "                        y = y.to(device)\n",
    "\n",
    "                        if attentionNetworkBool:\n",
    "                            out, _ =  NN(x)\n",
    "                        else:\n",
    "                            out =  NN(x)\n",
    "                    \n",
    "                        trainAcc += getAccuracy(out, y)\n",
    "                        \n",
    "                    wandb.log({'epoch': i, 'training accuracy': trainAcc / len(datasetLearning)})\n",
    "\n",
    "                                         \n",
    "                    \n",
    "                NN.train()\n",
    "                \n",
    "                if attentionNetworkBool:\n",
    "                    torch.save(NN.state_dict(), \"mod_w2v_attention_simp.pt\")\n",
    "                else:\n",
    "                    torch.save(NN.state_dict(), \"mod_w2v_simp.pt\")\n",
    "\n",
    "            j += 1\n",
    "            \n",
    "if __name__ == \"__main__\":\n",
    "\n",
    "    train()"
   ]
  },
  {
   "cell_type": "markdown",
   "metadata": {},
   "source": [
    "## Analyzing the results"
   ]
  },
  {
   "cell_type": "code",
   "execution_count": 51,
   "metadata": {},
   "outputs": [
    {
     "data": {
      "text/plain": [
       "AttentionGRUClassifier(\n",
       "  (InMlp): MLP2(\n",
       "    (mlp): Sequential(\n",
       "      (0): Linear(in_features=300, out_features=243, bias=True)\n",
       "      (1): ReLU()\n",
       "      (2): Dropout(p=0.3, inplace=False)\n",
       "      (3): Linear(in_features=243, out_features=186, bias=True)\n",
       "      (4): ReLU()\n",
       "      (5): Dropout(p=0.3, inplace=False)\n",
       "      (6): Linear(in_features=186, out_features=128, bias=True)\n",
       "    )\n",
       "  )\n",
       "  (gru): GRU(128, 128, batch_first=True, bidirectional=True)\n",
       "  (attentionLayer): SelfAttention(\n",
       "    (W_q): Linear(in_features=256, out_features=256, bias=True)\n",
       "    (W_k): Linear(in_features=256, out_features=256, bias=True)\n",
       "    (W_v): Linear(in_features=256, out_features=256, bias=True)\n",
       "  )\n",
       "  (outMlp): MLP2(\n",
       "    (mlp): Sequential(\n",
       "      (0): Linear(in_features=7680, out_features=5121, bias=True)\n",
       "      (1): ReLU()\n",
       "      (2): Dropout(p=0.3, inplace=False)\n",
       "      (3): Linear(in_features=5121, out_features=2562, bias=True)\n",
       "      (4): ReLU()\n",
       "      (5): Dropout(p=0.3, inplace=False)\n",
       "      (6): Linear(in_features=2562, out_features=2, bias=True)\n",
       "    )\n",
       "  )\n",
       ")"
      ]
     },
     "execution_count": 51,
     "metadata": {},
     "output_type": "execute_result"
    }
   ],
   "source": [
    "sd = torch.load('/home/jpierre/other/sentiment_analyzis/mod_w2v_best_attention_simp.pt')\n",
    "NN.load_state_dict(sd)\n",
    "NN = NN.to(device)\n",
    "NN.eval()"
   ]
  },
  {
   "cell_type": "code",
   "execution_count": 52,
   "metadata": {},
   "outputs": [],
   "source": [
    "preds = None\n",
    "y = None\n",
    "for x_test, y_test in loaderTest:\n",
    "    x_test = x_test.to(device)\n",
    "    y_test = y_test.to(device)\n",
    "\n",
    "    if attentionNetworkBool:\n",
    "        out, _ =  NN(x_test)\n",
    "    else:\n",
    "        out =  NN(x_test)\n",
    "    \n",
    "    if preds is None:\n",
    "        preds = out\n",
    "    else:\n",
    "        preds = torch.vstack((preds, out))\n",
    "        \n",
    "    if y is None:\n",
    "        y = y_test.reshape(-1)\n",
    "    else:\n",
    "        y = torch.concat((y.reshape(-1), y_test.reshape(-1)))\n"
   ]
  },
  {
   "cell_type": "code",
   "execution_count": null,
   "metadata": {},
   "outputs": [],
   "source": []
  },
  {
   "cell_type": "code",
   "execution_count": 53,
   "metadata": {},
   "outputs": [],
   "source": [
    "def plot_confusion_matrix(cm,\n",
    "                          target_names,\n",
    "                          title='Confusion matrix',\n",
    "                          cmap=None,\n",
    "                          normalize=True):\n",
    "    \"\"\"\n",
    "    given a sklearn confusion matrix (cm), make a nice plot\n",
    "\n",
    "    Arguments\n",
    "    ---------\n",
    "    cm:           confusion matrix from sklearn.metrics.confusion_matrix\n",
    "\n",
    "    target_names: given classification classes such as [0, 1, 2]\n",
    "                  the class names, for example: ['high', 'medium', 'low']\n",
    "\n",
    "    title:        the text to display at the top of the matrix\n",
    "\n",
    "    cmap:         the gradient of the values displayed from matplotlib.pyplot.cm\n",
    "                  see http://matplotlib.org/examples/color/colormaps_reference.html\n",
    "                  plt.get_cmap('jet') or plt.cm.Blues\n",
    "\n",
    "    normalize:    If False, plot the raw numbers\n",
    "                  If True, plot the proportions\n",
    "\n",
    "    Usage\n",
    "    -----\n",
    "    plot_confusion_matrix(cm           = cm,                  # confusion matrix created by\n",
    "                                                              # sklearn.metrics.confusion_matrix\n",
    "                          normalize    = True,                # show proportions\n",
    "                          target_names = y_labels_vals,       # list of names of the classes\n",
    "                          title        = best_estimator_name) # title of graph\n",
    "\n",
    "    Citiation\n",
    "    ---------\n",
    "    http://scikit-learn.org/stable/auto_examples/model_selection/plot_confusion_matrix.html\n",
    "\n",
    "    \"\"\"\n",
    "    \n",
    "    accuracy = np.trace(cm) / float(np.sum(cm))\n",
    "    misclass = 1 - accuracy\n",
    "\n",
    "    if cmap is None:\n",
    "        cmap = plt.get_cmap('Blues')\n",
    "        \n",
    "    if normalize:\n",
    "        cm = cm.astype('float') / cm.sum(axis=1)[:, np.newaxis]\n",
    "\n",
    "\n",
    "    plt.figure(figsize=(8, 6))\n",
    "    plt.imshow(cm, interpolation='nearest', cmap=cmap)\n",
    "    plt.title(title)\n",
    "    plt.colorbar()\n",
    "\n",
    "    if target_names is not None:\n",
    "        tick_marks = np.arange(len(target_names))\n",
    "        plt.xticks(tick_marks, target_names, rotation=45)\n",
    "        plt.yticks(tick_marks, target_names)\n",
    "\n",
    "    thresh = cm.max() / 1.5 if normalize else cm.max() / 2\n",
    "    for i, j in itertools.product(range(cm.shape[0]), range(cm.shape[1])):\n",
    "        if normalize:\n",
    "            plt.text(j, i, \"{:0.4f}\".format(cm[i, j]),\n",
    "                     horizontalalignment=\"center\",\n",
    "                     color=\"white\" if cm[i, j] > thresh else \"black\")\n",
    "        else:\n",
    "            plt.text(j, i, \"{:,}\".format(cm[i, j]),\n",
    "                     horizontalalignment=\"center\",\n",
    "                     color=\"white\" if cm[i, j] > thresh else \"black\")\n",
    "\n",
    "\n",
    "    plt.tight_layout()\n",
    "    plt.ylabel('True label')\n",
    "    plt.xlabel('Predicted label\\naccuracy={:0.4f}; misclass={:0.4f}'.format(accuracy, misclass))\n",
    "    plt.savefig('conf_mat.png')\n",
    "    plt.show()\n"
   ]
  },
  {
   "cell_type": "code",
   "execution_count": 54,
   "metadata": {},
   "outputs": [],
   "source": [
    "y = y.cpu().numpy()\n",
    "_, i = preds.topk(1, dim = -1)\n",
    "predictions = i.reshape(-1).cpu().numpy()"
   ]
  },
  {
   "cell_type": "code",
   "execution_count": null,
   "metadata": {},
   "outputs": [],
   "source": []
  },
  {
   "cell_type": "code",
   "execution_count": 55,
   "metadata": {},
   "outputs": [
    {
     "name": "stdout",
     "output_type": "stream",
     "text": [
      "[[104  19]\n",
      " [ 16 131]]\n"
     ]
    },
    {
     "data": {
      "image/png": "[encoded data removed]",
      "text/plain": [
       "<Figure size 800x600 with 2 Axes>"
      ]
     },
     "metadata": {},
     "output_type": "display_data"
    }
   ],
   "source": [
    "from sklearn.metrics import confusion_matrix\n",
    "import itertools\n",
    "\n",
    "conf_matrix = confusion_matrix(y, predictions)\n",
    "print(conf_matrix)\n",
    "plot_confusion_matrix(conf_matrix, ['disliked', 'liked'], normalize=True)"
   ]
  },
  {
   "cell_type": "markdown",
   "metadata": {},
   "source": [
    "### Attention weights matrix"
   ]
  },
  {
   "cell_type": "code",
   "execution_count": 56,
   "metadata": {},
   "outputs": [
    {
     "name": "stdout",
     "output_type": "stream",
     "text": [
      "Hard to judge whether these sides were good because we were grossed out by the melted styrofoam and didn't want to eat it for fear of getting sick.\n",
      "0\n"
     ]
    }
   ],
   "source": [
    "print(d['Review'][42])\n",
    "print(d['Liked'][42])"
   ]
  },
  {
   "cell_type": "code",
   "execution_count": 57,
   "metadata": {},
   "outputs": [
    {
     "name": "stdout",
     "output_type": "stream",
     "text": [
      "['hard', 'judge', 'whether', 'sides', 'good', 'we', 'grossed', 'melted', 'styrofoam', 'not', 'want', 'eat', 'it', 'fear', 'getting', 'sick']\n"
     ]
    }
   ],
   "source": [
    "sentence = df[42]\n",
    "print(sentence)"
   ]
  },
  {
   "cell_type": "code",
   "execution_count": 58,
   "metadata": {},
   "outputs": [
    {
     "data": {
      "text/plain": [
       "AttentionGRUClassifier(\n",
       "  (InMlp): MLP2(\n",
       "    (mlp): Sequential(\n",
       "      (0): Linear(in_features=300, out_features=243, bias=True)\n",
       "      (1): ReLU()\n",
       "      (2): Dropout(p=0.3, inplace=False)\n",
       "      (3): Linear(in_features=243, out_features=186, bias=True)\n",
       "      (4): ReLU()\n",
       "      (5): Dropout(p=0.3, inplace=False)\n",
       "      (6): Linear(in_features=186, out_features=128, bias=True)\n",
       "    )\n",
       "  )\n",
       "  (gru): GRU(128, 128, batch_first=True, bidirectional=True)\n",
       "  (attentionLayer): SelfAttention(\n",
       "    (W_q): Linear(in_features=256, out_features=256, bias=True)\n",
       "    (W_k): Linear(in_features=256, out_features=256, bias=True)\n",
       "    (W_v): Linear(in_features=256, out_features=256, bias=True)\n",
       "  )\n",
       "  (outMlp): MLP2(\n",
       "    (mlp): Sequential(\n",
       "      (0): Linear(in_features=7680, out_features=5121, bias=True)\n",
       "      (1): ReLU()\n",
       "      (2): Dropout(p=0.3, inplace=False)\n",
       "      (3): Linear(in_features=5121, out_features=2562, bias=True)\n",
       "      (4): ReLU()\n",
       "      (5): Dropout(p=0.3, inplace=False)\n",
       "      (6): Linear(in_features=2562, out_features=2, bias=True)\n",
       "    )\n",
       "  )\n",
       ")"
      ]
     },
     "execution_count": 58,
     "metadata": {},
     "output_type": "execute_result"
    }
   ],
   "source": [
    "NN.eval()"
   ]
  },
  {
   "cell_type": "code",
   "execution_count": 59,
   "metadata": {},
   "outputs": [],
   "source": [
    "embs = getEmbedding(sentence).to(device)\n",
    "out, w = NN(embs[None, :, :])"
   ]
  },
  {
   "cell_type": "code",
   "execution_count": 60,
   "metadata": {},
   "outputs": [
    {
     "name": "stdout",
     "output_type": "stream",
     "text": [
      "tensor([[1.0000e+00, 1.2170e-10]], device='cuda:0', grad_fn=<SoftmaxBackward0>)\n"
     ]
    }
   ],
   "source": [
    "print(F.softmax(out, dim = -1))"
   ]
  },
  {
   "cell_type": "code",
   "execution_count": 61,
   "metadata": {},
   "outputs": [
    {
     "name": "stderr",
     "output_type": "stream",
     "text": [
      "/tmp/ipykernel_1543117/4099214742.py:7: UserWarning: FixedFormatter should only be used together with FixedLocator\n",
      "  ax.set_xticklabels([''] + [w for w in sentence])\n",
      "/tmp/ipykernel_1543117/4099214742.py:8: UserWarning: FixedFormatter should only be used together with FixedLocator\n",
      "  ax.set_yticklabels([''] + [w for w in sentence])\n"
     ]
    },
    {
     "data": {
      "image/png": "[encoded data removed]",
      "text/plain": [
       "<Figure size 640x480 with 2 Axes>"
      ]
     },
     "metadata": {},
     "output_type": "display_data"
    }
   ],
   "source": [
    "import matplotlib.ticker as ticker\n",
    "fig, ax = plt.subplots()\n",
    "\n",
    "cax = ax.matshow(w.cpu().detach().numpy()[0, :len(sentence), :len(sentence)], cmap='jet')\n",
    "plt.colorbar(cax)\n",
    "\n",
    "ax.set_xticklabels([''] + [w for w in sentence])\n",
    "ax.set_yticklabels([''] + [w for w in sentence])\n",
    "\n",
    "ax.xaxis.set_major_locator(ticker.MultipleLocator(1))\n",
    "ax.yaxis.set_major_locator(ticker.MultipleLocator(1))\n",
    "\n",
    "for tick in ax.get_xticklabels():\n",
    "    tick.set_rotation(90)"
   ]
  },
  {
   "cell_type": "code",
   "execution_count": null,
   "metadata": {},
   "outputs": [],
   "source": []
  }
 ],
 "metadata": {
  "kernelspec": {
   "display_name": "Python [conda env:myenvPy]",
   "language": "python",
   "name": "conda-env-myenvPy-py"
  },
  "language_info": {
   "codemirror_mode": {
    "name": "ipython",
    "version": 3
   },
   "file_extension": ".py",
   "mimetype": "text/x-python",
   "name": "python",
   "nbconvert_exporter": "python",
   "pygments_lexer": "ipython3",
   "version": "3.9.18"
  }
 },
 "nbformat": 4,
 "nbformat_minor": 4
}
